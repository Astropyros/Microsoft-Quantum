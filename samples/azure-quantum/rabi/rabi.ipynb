{
  "cells": [
    {
      "cell_type": "markdown",
      "source": [
        "# Rotate a qubit state from $|0\\rangle$ to $|1\\rangle$ on a QPU\r\n",
        "\r\n",
        "In this notebook, I will show how to use Q\\# to rotate a qubit state incrementally between $|0\\rangle$ and $|1\\rangle$ on a trapped ion quantum processor:\r\n",
        "\r\n",
        "1. Rotate the qubit by an angle _theta_\r\n",
        "2. Measure it in the X, Y and Z basis\r\n",
        "3. Plot the result on the Bloch sphere\r\n",
        "\r\n",
        "This program is also known as a _Rabi sequence_."
      ],
      "metadata": {
        "nteract": {
          "transient": {
            "deleting": false
          }
        }
      }
    },
    {
      "cell_type": "markdown",
      "source": [
        "First, run the necessary imports."
      ],
      "metadata": {
        "nteract": {
          "transient": {
            "deleting": false
          }
        }
      }
    },
    {
      "cell_type": "code",
      "source": [
        "import qsharp\r\n",
        "import qsharp.azure\r\n",
        "import numpy as np"
      ],
      "outputs": [
        {
          "output_type": "stream",
          "name": "stdout",
          "text": "Preparing Q# environment...\n.."
        }
      ],
      "execution_count": 1,
      "metadata": {
        "jupyter": {
          "source_hidden": false,
          "outputs_hidden": false
        },
        "nteract": {
          "transient": {
            "deleting": false
          }
        }
      }
    },
    {
      "cell_type": "markdown",
      "source": [
        "Then, connect to the Azure Quantum service. You can copy-paste the `resourceId` from the \"Overview\" tab on the Azure Quantum Workspace.\r\n",
        "\r\n",
        "If you're running in the Azure Quantum Notebooks, this will authenticate automatically. If you are running in a local notebook, it will trigger the authentication flow."
      ],
      "metadata": {
        "nteract": {
          "transient": {
            "deleting": false
          }
        }
      }
    },
    {
      "cell_type": "code",
      "source": [
        "qsharp.azure.connect(resourceId=\"\", location=\"EastUS\")"
      ],
      "outputs": [
        {
          "output_type": "display_data",
          "data": {
            "text/plain": "Connecting to Azure Quantum...",
            "application/x-qsharp-data": "\"Connecting to Azure Quantum...\""
          },
          "metadata": {}
        },
        {
          "output_type": "stream",
          "name": "stdout",
          "text": "Authenticated using Microsoft.Azure.Quantum.Authentication.TokenFileCredential\n\n\nConnected to Azure Quantum workspace TestGuen in location eastus.\n"
        },
        {
          "output_type": "execute_result",
          "execution_count": 2,
          "data": {
            "text/plain": "[{'id': 'ionq.qpu', 'current_availability': {}, 'average_queue_time': 20211},\n {'id': 'ionq.simulator', 'current_availability': {}, 'average_queue_time': 212},\n {'id': 'quantinuum.hqs-lt-s1', 'current_availability': {}, 'average_queue_time': 91586},\n {'id': 'quantinuum.hqs-lt-s1-apival', 'current_availability': {}, 'average_queue_time': 0},\n {'id': 'quantinuum.hqs-lt-s2', 'current_availability': {}, 'average_queue_time': 0},\n {'id': 'quantinuum.hqs-lt-s2-apival', 'current_availability': {}, 'average_queue_time': 0},\n {'id': 'quantinuum.hqs-lt-s1-sim', 'current_availability': {}, 'average_queue_time': 54},\n {'id': 'quantinuum.hqs-lt-s2-sim', 'current_availability': {}, 'average_queue_time': 607},\n {'id': 'quantinuum.hqs-lt', 'current_availability': {}, 'average_queue_time': 0}]"
          },
          "metadata": {}
        }
      ],
      "execution_count": 2,
      "metadata": {
        "jupyter": {
          "source_hidden": false,
          "outputs_hidden": false
        },
        "nteract": {
          "transient": {
            "deleting": false
          }
        }
      }
    },
    {
      "cell_type": "markdown",
      "source": [
        "Then, create the Quantum programs that you'll run to get the x, y and z coordinates of the qubit state on the Bloch sphere.\r\n",
        "\r\n",
        "Note that you'll need to create three different programs, one for each coordinate. Each operation will apply the `Rx` gate and measure the qubit in the corresponding _Pauli basis_."
      ],
      "metadata": {
        "nteract": {
          "transient": {
            "deleting": false
          }
        }
      }
    },
    {
      "cell_type": "code",
      "source": [
        "%%qsharp\r\n",
        "open Microsoft.Quantum.Measurement;\r\n",
        "\r\n",
        "operation RabiX(theta: Double) : Result {\r\n",
        "    use q = Qubit();\r\n",
        "    Rx(theta, q);\r\n",
        "    return MResetX(q);\r\n",
        "}\r\n",
        "\r\n",
        "operation RabiY(theta: Double) : Result {\r\n",
        "    use q = Qubit();\r\n",
        "    Rx(theta, q);\r\n",
        "    return MResetY(q);\r\n",
        "}\r\n",
        "\r\n",
        "operation RabiZ(theta: Double) : Result {\r\n",
        "    use q = Qubit();\r\n",
        "    Rx(theta, q);\r\n",
        "    return MResetZ(q);\r\n",
        "}"
      ],
      "outputs": [],
      "execution_count": 3,
      "metadata": {
        "jupyter": {
          "source_hidden": false,
          "outputs_hidden": false
        },
        "nteract": {
          "transient": {
            "deleting": false
          }
        },
        "microsoft": {
          "language": "qsharp"
        }
      }
    },
    {
      "cell_type": "markdown",
      "source": [
        "Finally, run the operation on the IonQ QPU using `qsharp.azure.submit`. This function submits the quantum circuits and returns the job so we can fetch the results later.\r\n",
        "\r\n",
        "You can create a function that takes the angle `theta` as an input parameter and returns the job IDs."
      ],
      "metadata": {
        "nteract": {
          "transient": {
            "deleting": false
          }
        }
      }
    },
    {
      "cell_type": "code",
      "source": [
        "def rotate_qubit_state(theta):\r\n",
        "    \"\"\"\r\n",
        "    Rotate the qubit state by theta and return a vector of the state on the Bloch sphere.\r\n",
        "    Return job IDs to fetch results later.\r\n",
        "    \"\"\"\r\n",
        "    jobs = [qsharp.azure.submit(op, theta=theta) for op in [RabiX, RabiY, RabiZ]]\r\n",
        "    job_ids = [job.id for job in jobs]\r\n",
        "    return job_ids"
      ],
      "outputs": [],
      "execution_count": 4,
      "metadata": {
        "jupyter": {
          "source_hidden": false,
          "outputs_hidden": false
        },
        "nteract": {
          "transient": {
            "deleting": false
          }
        }
      }
    },
    {
      "cell_type": "markdown",
      "source": [
        "Finally, you can run the program and plot the result on the Bloch sphere. Each operation is submitted to the service as a \"job\" that gets queued and is used to fetch the results. To get the IDs for your jobs, look at the output log. You can look up the job status in the \"Job management\" tab of the Azure Quantum Workspace."
      ],
      "metadata": {
        "nteract": {
          "transient": {
            "deleting": false
          }
        }
      }
    },
    {
      "cell_type": "markdown",
      "source": [
        "You can now submit the programs to the QPU to get job IDs back. Because the queue time is quite long at the moment you can come back later to see the results.\r\n",
        "\r\n",
        "First, set the target to use the QPU."
      ],
      "metadata": {
        "nteract": {
          "transient": {
            "deleting": false
          }
        }
      }
    },
    {
      "cell_type": "code",
      "source": [
        "qsharp.azure.target(\"ionq.qpu\")"
      ],
      "outputs": [
        {
          "output_type": "stream",
          "name": "stdout",
          "text": "Loading package Microsoft.Quantum.Providers.IonQ and dependencies...\nActive target is now ionq.qpu\n"
        },
        {
          "output_type": "execute_result",
          "execution_count": 5,
          "data": {
            "text/plain": "{'id': 'ionq.qpu', 'current_availability': {}, 'average_queue_time': 166688}"
          },
          "metadata": {}
        }
      ],
      "execution_count": 5,
      "metadata": {
        "jupyter": {
          "source_hidden": false,
          "outputs_hidden": false
        },
        "nteract": {
          "transient": {
            "deleting": false
          }
        }
      }
    },
    {
      "cell_type": "markdown",
      "source": [
        "Then, submit the circuits to the QPU."
      ],
      "metadata": {
        "nteract": {
          "transient": {
            "deleting": false
          }
        }
      }
    },
    {
      "cell_type": "code",
      "source": [
        "job_ids = rotate_qubit_state(theta=np.pi/4)\r\n",
        "job_ids"
      ],
      "outputs": [
        {
          "output_type": "stream",
          "name": "stdout",
          "text": "Submitting RabiX to target ionq.qpu...\nJob successfully submitted for 500 shots.\n   Job name: RabiX\n   Job ID: \nSubmitting RabiY to target ionq.qpu...\nJob successfully submitted for 500 shots.\n   Job name: RabiY\n   Job ID: \nSubmitting RabiZ to target ionq.qpu...\nJob successfully submitted for 500 shots.\n   Job name: RabiZ\n   Job ID: \n"
        },
        {
          "output_type": "execute_result",
          "execution_count": 6,
          "data": {
            "text/plain": "[]"
          },
          "metadata": {}
        }
      ],
      "execution_count": 6,
      "metadata": {
        "jupyter": {
          "source_hidden": false,
          "outputs_hidden": false
        },
        "nteract": {
          "transient": {
            "deleting": false
          }
        }
      }
    },
    {
      "cell_type": "markdown",
      "source": [
        "To see if the jobs are done yet, check the status using `qsharp.azure.status`."
      ],
      "metadata": {
        "nteract": {
          "transient": {
            "deleting": false
          }
        }
      }
    },
    {
      "cell_type": "code",
      "source": [
        "status = [qsharp.azure.status(job_id) for job_id in job_ids]\r\n",
        "print([s.status for s in status])"
      ],
      "outputs": [
        {
          "output_type": "stream",
          "name": "stdout",
          "text": "['Waiting', 'Waiting', 'Waiting']\n"
        }
      ],
      "execution_count": 7,
      "metadata": {
        "jupyter": {
          "source_hidden": false,
          "outputs_hidden": false
        },
        "nteract": {
          "transient": {
            "deleting": false
          }
        }
      }
    },
    {
      "cell_type": "code",
      "source": [
        "qsharp.azure.connect(resourceId=\"\", location=\"EastUS\")"
      ],
      "outputs": [
        {
          "output_type": "display_data",
          "data": {
            "text/plain": "Connecting to Azure Quantum...",
            "application/x-qsharp-data": "\"Connecting to Azure Quantum...\""
          },
          "metadata": {}
        },
        {
          "output_type": "stream",
          "name": "stdout",
          "text": "Authenticated using Microsoft.Azure.Quantum.Authentication.TokenFileCredential\n\n\nConnected to Azure Quantum workspace TestGuen in location eastus.\n"
        },
        {
          "output_type": "execute_result",
          "execution_count": 5,
          "data": {
            "text/plain": "[{'id': 'ionq.qpu', 'current_availability': {}, 'average_queue_time': 37847},\n {'id': 'ionq.simulator', 'current_availability': {}, 'average_queue_time': 2},\n {'id': 'honeywell.hqs-lt-s1-sim', 'current_availability': {}, 'average_queue_time': 128},\n {'id': 'honeywell.hqs-lt', 'current_availability': {}, 'average_queue_time': 0},\n {'id': 'quantinuum.hqs-lt-s1', 'current_availability': {}, 'average_queue_time': 1161593},\n {'id': 'quantinuum.hqs-lt-s1-apival', 'current_availability': {}, 'average_queue_time': 0},\n {'id': 'quantinuum.hqs-lt-s2', 'current_availability': {}, 'average_queue_time': 0},\n {'id': 'quantinuum.hqs-lt-s2-apival', 'current_availability': {}, 'average_queue_time': 0},\n {'id': 'quantinuum.hqs-lt-s1-sim', 'current_availability': {}, 'average_queue_time': 128},\n {'id': 'quantinuum.hqs-lt-s2-sim', 'current_availability': {}, 'average_queue_time': 72},\n {'id': 'quantinuum.hqs-lt', 'current_availability': {}, 'average_queue_time': 0}]"
          },
          "metadata": {}
        }
      ],
      "execution_count": 5,
      "metadata": {
        "jupyter": {
          "source_hidden": false,
          "outputs_hidden": false
        },
        "nteract": {
          "transient": {
            "deleting": false
          }
        }
      }
    },
    {
      "cell_type": "code",
      "source": [
        "status = [qsharp.azure.status(job_id) for job_id in job_ids]\r\n",
        "print([s.status for s in status])"
      ],
      "outputs": [
        {
          "output_type": "stream",
          "name": "stdout",
          "text": "['Succeeded', 'Succeeded', 'Succeeded']\n"
        }
      ],
      "execution_count": 6,
      "metadata": {
        "jupyter": {
          "source_hidden": false,
          "outputs_hidden": false
        },
        "nteract": {
          "transient": {
            "deleting": false
          }
        }
      }
    },
    {
      "cell_type": "markdown",
      "source": [
        "When the jobs have succeeded, get the job results with `qsharp.azure.output`."
      ],
      "metadata": {
        "nteract": {
          "transient": {
            "deleting": false
          }
        }
      }
    },
    {
      "cell_type": "code",
      "source": [
        "results = [qsharp.azure.output(job_id) for job_id in job_ids]"
      ],
      "outputs": [],
      "execution_count": 7,
      "metadata": {
        "jupyter": {
          "source_hidden": false,
          "outputs_hidden": false
        },
        "nteract": {
          "transient": {
            "deleting": false
          }
        }
      }
    },
    {
      "cell_type": "markdown",
      "source": [
        "Finally, map the measurement results P(|1>) onto a linear axis from -1 to 1 so you can plot the result using Carthesian coordinates on the Bloch sphere."
      ],
      "metadata": {
        "nteract": {
          "transient": {
            "deleting": false
          }
        }
      }
    },
    {
      "cell_type": "code",
      "source": [
        "vec = [r.get('0', 0) * 2 - 1 for r in results]"
      ],
      "outputs": [],
      "execution_count": 8,
      "metadata": {
        "jupyter": {
          "source_hidden": false,
          "outputs_hidden": false
        },
        "nteract": {
          "transient": {
            "deleting": false
          }
        }
      }
    },
    {
      "cell_type": "code",
      "source": [
        "from qutip import Bloch\r\n",
        "b = Bloch()\r\n",
        "b.add_vectors(vec)\r\n",
        "b.show()"
      ],
      "outputs": [
        {
          "output_type": "display_data",
          "data": {
            "text/plain": "<Figure size 360x360 with 1 Axes>",
            "image/png": "[encoded data removed]"
          },
          "metadata": {}
        }
      ],
      "execution_count": 9,
      "metadata": {
        "jupyter": {
          "source_hidden": false,
          "outputs_hidden": false
        },
        "nteract": {
          "transient": {
            "deleting": false
          }
        }
      }
    },
    {
      "cell_type": "code",
      "source": [
        "vec"
      ],
      "outputs": [
        {
          "output_type": "execute_result",
          "execution_count": 10,
          "data": {
            "text/plain": "[0.016000000000000014, -0.748, 0.6799999999999999]"
          },
          "metadata": {}
        }
      ],
      "execution_count": 10,
      "metadata": {
        "jupyter": {
          "source_hidden": false,
          "outputs_hidden": false
        },
        "nteract": {
          "transient": {
            "deleting": false
          }
        }
      }
    },
    {
      "cell_type": "code",
      "source": [],
      "outputs": [],
      "execution_count": null,
      "metadata": {
        "jupyter": {
          "source_hidden": false,
          "outputs_hidden": false
        },
        "nteract": {
          "transient": {
            "deleting": false
          }
        }
      }
    }
  ],
  "metadata": {
    "language_info": {
      "name": "python",
      "version": "3.7.13",
      "mimetype": "text/x-python",
      "codemirror_mode": {
        "name": "ipython",
        "version": 3
      },
      "pygments_lexer": "ipython3",
      "nbconvert_exporter": "python",
      "file_extension": ".py"
    },
    "kernelspec": {
      "name": "python3",
      "language": "python",
      "display_name": "Python 3 (ipykernel)"
    },
    "kernel_info": {
      "name": "python3"
    },
    "nteract": {
      "version": "nteract-front-end@1.0.0"
    }
  },
  "nbformat": 4,
  "nbformat_minor": 0
}
