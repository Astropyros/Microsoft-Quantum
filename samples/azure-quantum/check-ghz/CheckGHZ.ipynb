{
  "cells": [
    {
      "attachments": {},
      "cell_type": "markdown",
      "metadata": {},
      "source": [
        "# Integrated Hybrid Computing: Blending classical and quantum computing\n",
        "In this sample, you will discover how to blend classical and quantum instructions in the same program, all fully processed by the quantum computing backend.\n",
        "You can learn more about integrated hybrid computing at https://aka.ms/AQ/Hybrid/Docs\n",
        "\n",
        "## Connect to the Azure Quantum workspace\n",
        "First, find the resource ID of your Azure Quantum workspace. You can copy/paste this from the top-right corner of your Quantum Workspace page in Azure Portal.\n",
        "\n",
        "Next, you can run `%azure.connect` to connect to the workspace and display the list of provisioned targets that support execution of Q# programs. If you are prompted to login, be sure to use the same account you used to create your Azure Quantum workspace."
      ]
    },
    {
      "cell_type": "code",
      "execution_count": null,
      "metadata": {
        "jupyter": {
          "outputs_hidden": false,
          "source_hidden": false
        },
        "nteract": {
          "transient": {
            "deleting": false
          }
        }
      },
      "outputs": [],
      "source": [
        "%azure.connect \"/subscriptions/subscriptionId/resourceGroups/resourceGroupName/providers/Microsoft.Quantum/Workspaces/workspaceName\" location=\"westus\""
      ]
    },
    {
      "attachments": {},
      "cell_type": "markdown",
      "metadata": {
        "nteract": {
          "transient": {
            "deleting": false
          }
        }
      },
      "source": [
        "## Define the CheckGHZ operation\n",
        "\n",
        "This program will examine a 3 qubit Greenberger–Horne–Zeilinger (GHZ) state and count the number of times it sees the entanglement fail out of 10 attempts. Unlike in perfect, noiseless simulations, entanglement failures can occur in real-world runs, which are subject to the effects of noise.\n",
        "\n",
        "In the CheckGHZ() operation, you see three capabilities of integrated Hybrid being demonstrated:\n",
        "1. **Branching**: based on measurement results you can adjust the classical code being performed\n",
        "```Q#\n",
        "   if not (r0 == r1 and r1 == r2)\n",
        "```\n",
        "2. **Classical compute**: here an arithmetic operation is performed\n",
        "```Q#\n",
        "   set mismatch += 1;\n",
        "```\n",
        "3. **While the physical qubits are still coherent**, #1 and #2 are performed \n",
        "\n",
        "\n",
        "Please note that you will see a warning displayed (QS5026). It can be ignored. It will be addressed in a subsequent release of the Quantum Development Kit."
      ]
    },
    {
      "cell_type": "code",
      "execution_count": null,
      "metadata": {
        "jupyter": {
          "outputs_hidden": false,
          "source_hidden": false
        },
        "microsoft": {},
        "nteract": {
          "transient": {
            "deleting": false
          }
        }
      },
      "outputs": [],
      "source": [
        "open Microsoft.Quantum.Measurement;\n",
        "open Microsoft.Quantum.Arrays;\n",
        "open Microsoft.Quantum.Convert;\n",
        "\n",
        "operation CheckGHZ() : Int {\n",
        "    use q = Qubit[3];\n",
        "    mutable mismatch = 0;\n",
        "    for _ in 1..10 {\n",
        "        H(q[0]);\n",
        "        CNOT(q[0], q[1]);\n",
        "        CNOT(q[1], q[2]);\n",
        "\n",
        "        // Measures and resets the 3 qubits\n",
        "        let (r0, r1, r2) = (MResetZ(q[0]), MResetZ(q[1]), MResetZ(q[2]));\n",
        "\n",
        "        // Adjusts classical value based on measurement results\n",
        "        if not (r0 == r1 and r1 == r2) {\n",
        "            set mismatch += 1;\n",
        "        }\n",
        "    }\n",
        "    return mismatch;\n",
        "}"
      ]
    },
    {
      "attachments": {},
      "cell_type": "markdown",
      "metadata": {},
      "source": [
        "## Submit the operation\n",
        "Using 50 shots, as configured below, this program will use approximately 10.65 units (HQCs or eHQCs).<br/>\n",
        "If the job has not been completed after the client times out (300 seconds), you can query the status using `%azure.status` followed by querying the output using `%azure.output`.<br/>\n",
        "If the kernel was restarted after the program had been submitted, you will have to use `%azure.status <job_id>` to get the status of the job and `%azure.output <job_id>` to retrieve the results.<br/>\n",
        "You can also check the status of the job under the **Job management** section of the portal.\n",
        "\n",
        "**Understanding the results**<br/>\n",
        "The histogram reports the ratio, out of the number of shots performed, that a given number of entanglements failed.<br/>\n",
        "The histogram values can range from 0 (no entanglement failed) to 10 (all entanglements failed)."
      ]
    },
    {
      "cell_type": "code",
      "execution_count": null,
      "metadata": {},
      "outputs": [],
      "source": [
        "%azure.target quantinuum.sim.h1-1e-preview\n",
        "%azure.target-capability AdaptiveExecution\n",
        "%azure.execute CheckGHZ shots=50 timeout=300 poll=10"
      ]
    },
    {
      "cell_type": "code",
      "execution_count": null,
      "metadata": {},
      "outputs": [],
      "source": [
        "%azure.status"
      ]
    },
    {
      "cell_type": "code",
      "execution_count": null,
      "metadata": {},
      "outputs": [],
      "source": [
        "%azure.output"
      ]
    },
    {
      "attachments": {},
      "cell_type": "markdown",
      "metadata": {
        "nteract": {
          "transient": {
            "deleting": false
          }
        }
      },
      "source": [
        "## ↗ Learning more about Integrated hybrid\n",
        "Now that you have run this sample, you can further learn and experiment with the _Error Correction_ and the _Iterative Phase Estimation_ samples also available in the gallery.\n",
        "\n",
        "To learn more, please refer to the [online documentation](https://aka.ms/AQ/Hybrid/Docs)."
      ]
    }
  ],
  "metadata": {
    "kernel_info": {
      "name": "iqsharp"
    },
    "kernelspec": {
      "display_name": "Q#",
      "language": "qsharp",
      "name": "iqsharp"
    },
    "language_info": {
      "file_extension": ".qs",
      "mimetype": "text/x-qsharp",
      "name": "qsharp",
      "version": "0.27"
    },
    "nteract": {
      "version": "nteract-front-end@1.0.0"
    },
    "vscode": {
      "interpreter": {
        "hash": "5928ddfb481d60843a3b943727ce04da7552e01006ad87377dd54780c5247bec"
      }
    }
  },
  "nbformat": 4,
  "nbformat_minor": 0
}
