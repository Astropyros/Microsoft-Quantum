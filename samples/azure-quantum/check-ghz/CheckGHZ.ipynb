{
  "cells": [
    {
      "attachments": {},
      "cell_type": "markdown",
      "source": [
        "# Integrated Hybrid: Blending classical and quantum computing\n",
        "In this sample, you will discover how to blend classical and quantum instructions in the same program, all fully processed by the quantum computing back-end.\n",
        "You can learn more how to program with Integrated hybrid at https://aka.ms/AQ/Hybrid/Docs\n",
        "\n",
        "This program will examine a 3 qubit Greenberger–Horne–Zeilinger (GHZ) state and counts the number of times it sees the entanglement fail out of 10 attempts. Unlike in perfect, noiseless simulations, entanglement failures can occur in real-world runs, which are subject to the effects of noise.\n",
        "\n",
        "In the CheckGHZ() operation, you see three capabilities of Integrated Hybrid being demonstrated:\n",
        "1. **Branching**: based on measurement results you can adjust the classical code being performed\n",
        "```Q#\n",
        "   if not (r0 == r1 and r1 == r2)\n",
        "```\n",
        "2. **Classical comput**e: here an arithmetic operation is performed\n",
        "```Q#\n",
        "   set mismatch += 1;\n",
        "```\n",
        "3. **While the physical qubits are still coherent**, #1 and #2 are performed \n",
        "\n",
        "\n"
      ],
      "metadata": {}
    },
    {
      "cell_type": "code",
      "source": [
        "%azure.connect \"/subscriptions/916dfd6d-030c-4bd9-b579-7bb6d1926e97/resourceGroups/AzureQuantum/providers/Microsoft.Quantum/Workspaces/L3-BugBash-2\" location=\"eastus2euap\"\n",
        "\n"
      ],
      "outputs": [],
      "execution_count": null,
      "metadata": {
        "jupyter": {
          "outputs_hidden": false,
          "source_hidden": false
        },
        "nteract": {
          "transient": {
            "deleting": false
          }
        }
      }
    },
    {
      "attachments": {},
      "cell_type": "markdown",
      "source": [
        "## Define the CheckGHZ operation\n",
        "Please note that you will see a warning displayed (QS5026). It can be ignored. It will be addressed in a subsequent release of the Quantum Development Kit."
      ],
      "metadata": {
        "nteract": {
          "transient": {
            "deleting": false
          }
        }
      }
    },
    {
      "cell_type": "code",
      "source": [
        "open Microsoft.Quantum.Measurement;\n",
        "open Microsoft.Quantum.Arrays;\n",
        "open Microsoft.Quantum.Convert;\n",
        "\n",
        "operation CheckGHZ() : Int {\n",
        "    use q = Qubit[3];\n",
        "    mutable mismatch = 0;\n",
        "    for _ in 1..10 {\n",
        "        H(q[0]);\n",
        "        CNOT(q[0], q[1]);\n",
        "        CNOT(q[1], q[2]);\n",
        "\n",
        "        // Measures and resets the 3 qubits\n",
        "        let (r0, r1, r2) = (MResetZ(q[0]), MResetZ(q[1]), MResetZ(q[2]));\n",
        "\n",
        "        // Adjusts classical value based on measurement results\n",
        "        if not (r0 == r1 and r1 == r2) {\n",
        "            set mismatch += 1;\n",
        "        }\n",
        "    }\n",
        "    return mismatch;\n",
        "}\n"
      ],
      "outputs": [],
      "execution_count": null,
      "metadata": {
        "jupyter": {
          "outputs_hidden": false,
          "source_hidden": false
        },
        "microsoft": {},
        "nteract": {
          "transient": {
            "deleting": false
          }
        }
      }
    },
    {
      "attachments": {},
      "cell_type": "markdown",
      "source": [
        "## Submit the operation\n",
        "For 50 shots, as configured below, the following will use about 10.65 units (HQCs or eHQCs).<br/>\n",
        "If the job is not completed after the timeout (300 seconds), you can query the status followed by querying the output.<br/>\n",
        "You can also check the status under Operations > Job management.\n",
        "\n",
        "**Understanding the results**<br/>\n",
        "The histogram reports the ratio, out of the number of shots performed, that a given number of entanglements failed.<br/>\n",
        "The histogram values can range from 0 (no entanglement failed) to 10 (all entanglements failed)."
      ],
      "metadata": {}
    },
    {
      "cell_type": "code",
      "source": [
        "%azure.target quantinuum.sim.h1-1e\n",
        "%azure.target-capability AdaptiveExecution\n",
        "%azure.execute CheckGHZ shots=50 timeout=300 poll=10\n"
      ],
      "outputs": [],
      "execution_count": null,
      "metadata": {}
    },
    {
      "cell_type": "code",
      "source": [
        "%azure.status\n"
      ],
      "outputs": [],
      "execution_count": null,
      "metadata": {}
    },
    {
      "cell_type": "code",
      "source": [
        "%azure.output\n"
      ],
      "outputs": [],
      "execution_count": null,
      "metadata": {}
    },
    {
      "attachments": {},
      "cell_type": "markdown",
      "source": [
        "## ↗ Learning more about Integrated hybrid\n",
        "Now that you have run this sample, you can further learn and experiment with the _Error Correction_ and the _Iterative Phase Estimation_ samples also available in the gallery.\n",
        "\n",
        "To learn more, please refer to the [online documentation](https://aka.ms/AQ/Hybrid/Docs)."
      ],
      "metadata": {
        "nteract": {
          "transient": {
            "deleting": false
          }
        }
      }
    }
  ],
  "metadata": {
    "kernel_info": {
      "name": "iqsharp"
    },
    "kernelspec": {
      "name": "iqsharp",
      "language": "qsharp",
      "display_name": "Q#"
    },
    "language_info": {
      "name": "qsharp",
      "version": "0.27",
      "mimetype": "text/x-qsharp",
      "file_extension": ".qs"
    },
    "nteract": {
      "version": "nteract-front-end@1.0.0"
    },
    "vscode": {
      "interpreter": {
        "hash": "5928ddfb481d60843a3b943727ce04da7552e01006ad87377dd54780c5247bec"
      }
    }
  },
  "nbformat": 4,
  "nbformat_minor": 0
}