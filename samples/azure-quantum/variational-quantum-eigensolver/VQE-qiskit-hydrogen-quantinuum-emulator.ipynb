{
 "cells": [
  {
   "cell_type": "markdown",
   "id": "47574490",
   "metadata": {},
   "source": [
    "# Simulate the ground state of a Hydrogen molecule using Variational Quantum Eigensolver (VQE) on the Quantinuum emulator\n",
    "\n",
    "In this notebook, you will run VQE for a H2 molecule on the Quantinuum emulator via Azure Quantum using Qiskit.\n",
    "\n",
    "VQE is a variational algorithm that uses an [SPSA](https://en.wikipedia.org/wiki/Simultaneous_perturbation_stochastic_approximation) optimization loop to minimize a cost function. The cost function is an energy evaluation $H|\\psi> = E|\\psi>$ where $|\\psi>$ is a parametric trial state that estimates the ground state of the molecule. For each evaluation, we modify the trial state until the energy reaches a minimum.\n",
    "\n",
    "For more information about running VQE using Qiskit, see: https://qiskit.org/textbook/ch-applications/vqe-molecules.html#implementationnoisy"
   ]
  },
  {
   "cell_type": "markdown",
   "id": "f361a714",
   "metadata": {},
   "source": [
    "First, install and import the required packages."
   ]
  },
  {
   "cell_type": "code",
   "execution_count": null,
   "id": "fd5d9b36",
   "metadata": {},
   "outputs": [],
   "source": [
    "!pip install qiskit-aer"
   ]
  },
  {
   "cell_type": "code",
   "execution_count": 1,
   "id": "71d2cb0b",
   "metadata": {},
   "outputs": [],
   "source": [
    "import matplotlib.pyplot as plt\n",
    "import numpy as np\n",
    "\n",
    "from qiskit import IBMQ, BasicAer, Aer\n",
    "from qiskit.aqua import QuantumInstance\n",
    "from qiskit.aqua.components.optimizers import COBYLA, SPSA, SLSQP\n",
    "from qiskit.aqua.operators import Z2Symmetries\n",
    "from qiskit.aqua.algorithms import VQE, NumPyEigensolver\n",
    "from qiskit.chemistry.components.variational_forms import UCCSD\n",
    "from qiskit.chemistry.components.initial_states import HartreeFock\n",
    "from qiskit.circuit.library import EfficientSU2\n",
    "from qiskit.chemistry.drivers import PySCFDriver, UnitsType\n",
    "from qiskit.chemistry import FermionicOperator\n",
    "from qiskit.ignis.mitigation.measurement import CompleteMeasFitter\n",
    "from qiskit.providers.aer.noise import NoiseModel"
   ]
  },
  {
   "cell_type": "markdown",
   "id": "7dadd1bf",
   "metadata": {},
   "source": [
    "Prepare the qubit operators using PySCF."
   ]
  },
  {
   "cell_type": "code",
   "execution_count": 2,
   "id": "9b4ce39a",
   "metadata": {},
   "outputs": [],
   "source": [
    "driver = PySCFDriver(atom='H .0 .0 -0.3625; H .0 .0 0.3625', unit=UnitsType.ANGSTROM, charge=0, spin=0, basis='sto3g')\n",
    "molecule = driver.run()\n",
    "num_particles = molecule.num_alpha + molecule.num_beta\n",
    "qubit_op = FermionicOperator(h1=molecule.one_body_integrals, h2=molecule.two_body_integrals).mapping(map_type='parity')\n",
    "qubit_op = Z2Symmetries.two_qubit_reduction(qubit_op, num_particles)"
   ]
  },
  {
   "cell_type": "markdown",
   "id": "50174a98",
   "metadata": {},
   "source": [
    "## 1. Simulate locally\n",
    "\n",
    "You can simulate the program locally using the Aer simulator. Create a QuantumInstance with a noise model, generated using a mock device \"FakeVigo\" with noise characteristics."
   ]
  },
  {
   "cell_type": "code",
   "execution_count": 3,
   "id": "737c1000",
   "metadata": {},
   "outputs": [],
   "source": [
    "from qiskit.test.mock import FakeVigo\n",
    "from qiskit.providers.aer import AerSimulator\n",
    "from qiskit.providers.aer import QasmSimulator\n",
    "from qiskit.providers.aer.noise import NoiseModel\n",
    "\n",
    "backend = AerSimulator()\n",
    "device_backend = FakeVigo()\n",
    "device = QasmSimulator.from_backend(device_backend)"
   ]
  },
  {
   "cell_type": "markdown",
   "id": "f9939a47",
   "metadata": {},
   "source": [
    "Then, run the simulation using the VQE class."
   ]
  },
  {
   "cell_type": "markdown",
   "id": "c4ffa5a4",
   "metadata": {},
   "source": [
    "### Simulate locally with noise and error mitigation"
   ]
  },
  {
   "cell_type": "code",
   "execution_count": 4,
   "id": "b4788b3c",
   "metadata": {},
   "outputs": [
    {
     "name": "stdout",
     "output_type": "stream",
     "text": [
      "Exact Result: [-1.13722138]\n",
      "VQE Result: -1.1036463255433093\n"
     ]
    }
   ],
   "source": [
    "coupling_map = device.configuration().coupling_map\n",
    "noise_model = NoiseModel.from_backend(device)\n",
    "basis_gates = noise_model.basis_gates\n",
    "\n",
    "quantum_instance = QuantumInstance(backend=backend, \n",
    "                                   shots=8192, \n",
    "                                   noise_model=noise_model, \n",
    "                                   coupling_map=coupling_map,\n",
    "                                   measurement_error_mitigation_cls=CompleteMeasFitter,\n",
    "                                   cals_matrix_refresh_period=30)\n",
    "\n",
    "exact_solution = NumPyEigensolver(qubit_op).run()\n",
    "print(\"Exact Result:\", np.real(exact_solution.eigenvalues) + molecule.nuclear_repulsion_energy)\n",
    "# Create optimizer\n",
    "optimizer = SPSA(maxiter=100)\n",
    "# Create the variational form of the ansatz. This is using the RYRZ variational form.\n",
    "# For more information, see the Qiskit textbook: https://qiskit.org/textbook/ch-applications/vqe-molecules.html\n",
    "var_form = EfficientSU2(qubit_op.num_qubits, entanglement=\"linear\")\n",
    "# Create a VQE object that runs the algorithm\n",
    "vqe = VQE(qubit_op, var_form, optimizer=optimizer)\n",
    "# Run the VQE program\n",
    "ret = vqe.run(quantum_instance)\n",
    "vqe_result = np.real(ret['eigenvalue']+ molecule.nuclear_repulsion_energy)\n",
    "print(\"VQE Result:\", vqe_result)"
   ]
  },
  {
   "cell_type": "markdown",
   "id": "84237dc8",
   "metadata": {},
   "source": [
    "The parameters found by the optimization loop:"
   ]
  },
  {
   "cell_type": "code",
   "execution_count": 5,
   "id": "77f373f5",
   "metadata": {},
   "outputs": [
    {
     "data": {
      "text/plain": [
       "array([ 2.64222138,  1.98857084, -1.70870039, -3.29137529, -1.35222182,\n",
       "       -6.29435227, -1.42635834,  1.44307708,  0.37995398, -2.6046815 ,\n",
       "        2.8102566 ,  0.1773668 ,  0.78413311, -1.36714306,  0.1063378 ,\n",
       "       -2.03098041])"
      ]
     },
     "execution_count": 5,
     "metadata": {},
     "output_type": "execute_result"
    }
   ],
   "source": [
    "p0 = ret.optimal_point\n",
    "p0"
   ]
  },
  {
   "cell_type": "markdown",
   "id": "c4338b61",
   "metadata": {},
   "source": [
    "The energy was evaluated a total of `ret.cost_function_evals` times until the minimum was found."
   ]
  },
  {
   "cell_type": "code",
   "execution_count": 6,
   "id": "9930b2c9",
   "metadata": {},
   "outputs": [
    {
     "data": {
      "text/plain": [
       "241"
      ]
     },
     "execution_count": 6,
     "metadata": {},
     "output_type": "execute_result"
    }
   ],
   "source": [
    "ret.cost_function_evals"
   ]
  },
  {
   "cell_type": "markdown",
   "id": "87005ce0",
   "metadata": {},
   "source": [
    "### Circuit visualization\n",
    "\n",
    "Each energy evaluation consists of two circuits that are run. You can visualize these circuits with Qiskit using the `vqe` instance."
   ]
  },
  {
   "cell_type": "code",
   "execution_count": 7,
   "id": "69e6719e",
   "metadata": {},
   "outputs": [],
   "source": [
    "# The below function removes any wires that are automatically generated but are not used, to make it easier to read.\n",
    "# https://quantumcomputing.stackexchange.com/questions/25672/remove-inactive-qubits-from-qiskit-circuit\n",
    "from qiskit.converters import circuit_to_dag, dag_to_circuit\n",
    "from collections import OrderedDict\n",
    "\n",
    "def remove_idle_qwires(circ):\n",
    "    dag = circuit_to_dag(circ)\n",
    "\n",
    "    idle_wires = list(dag.idle_wires())\n",
    "    for w in idle_wires:\n",
    "        dag._remove_idle_wire(w)\n",
    "        dag.qubits.remove(w)\n",
    "\n",
    "    dag.qregs = OrderedDict()\n",
    "\n",
    "    return dag_to_circuit(dag)\n",
    "\n",
    "circs = vqe._circuit_sampler._transpiled_circ_cache\n",
    "circs = [remove_idle_qwires(circ) for circ in circs]\n",
    "circ = circs[0]"
   ]
  },
  {
   "cell_type": "code",
   "execution_count": 8,
   "id": "e0ab0e41",
   "metadata": {},
   "outputs": [
    {
     "data": {
      "text/html": [
       "<pre style=\"word-wrap: normal;white-space: pre;background: #fff0;line-height: 1.1;font-family: &quot;Courier New&quot;,Courier,monospace\">      ┌──────────┐┌──────────┐     ┌──────────┐┌──────────┐     ┌──────────┐»\n",
       "   0: ┤ Ry(θ[0]) ├┤ Rz(θ[2]) ├──■──┤ Ry(θ[4]) ├┤ Rz(θ[6]) ├──■──┤ Ry(θ[8]) ├»\n",
       "      ├──────────┤├──────────┤┌─┴─┐├──────────┤├──────────┤┌─┴─┐├──────────┤»\n",
       "   1: ┤ Ry(θ[1]) ├┤ Rz(θ[3]) ├┤ X ├┤ Ry(θ[5]) ├┤ Rz(θ[7]) ├┤ X ├┤ Ry(θ[9]) ├»\n",
       "      └──────────┘└──────────┘└───┘└──────────┘└──────────┘└───┘└──────────┘»\n",
       "c0: 2/══════════════════════════════════════════════════════════════════════»\n",
       "                                                                            »\n",
       "«      ┌───────────┐     ┌───────────┐┌───────────┐┌───┐┌─┐   \n",
       "«   0: ┤ Rz(θ[10]) ├──■──┤ Ry(θ[12]) ├┤ Rz(θ[14]) ├┤ H ├┤M├───\n",
       "«      ├───────────┤┌─┴─┐├───────────┤├───────────┤├───┤└╥┘┌─┐\n",
       "«   1: ┤ Rz(θ[11]) ├┤ X ├┤ Ry(θ[13]) ├┤ Rz(θ[15]) ├┤ H ├─╫─┤M├\n",
       "«      └───────────┘└───┘└───────────┘└───────────┘└───┘ ║ └╥┘\n",
       "«c0: 2/══════════════════════════════════════════════════╩══╩═\n",
       "«                                                        0  1 </pre>"
      ],
      "text/plain": [
       "      ┌──────────┐┌──────────┐     ┌──────────┐┌──────────┐     ┌──────────┐»\n",
       "   0: ┤ Ry(θ[0]) ├┤ Rz(θ[2]) ├──■──┤ Ry(θ[4]) ├┤ Rz(θ[6]) ├──■──┤ Ry(θ[8]) ├»\n",
       "      ├──────────┤├──────────┤┌─┴─┐├──────────┤├──────────┤┌─┴─┐├──────────┤»\n",
       "   1: ┤ Ry(θ[1]) ├┤ Rz(θ[3]) ├┤ X ├┤ Ry(θ[5]) ├┤ Rz(θ[7]) ├┤ X ├┤ Ry(θ[9]) ├»\n",
       "      └──────────┘└──────────┘└───┘└──────────┘└──────────┘└───┘└──────────┘»\n",
       "c0: 2/══════════════════════════════════════════════════════════════════════»\n",
       "                                                                            »\n",
       "«      ┌───────────┐     ┌───────────┐┌───────────┐┌───┐┌─┐   \n",
       "«   0: ┤ Rz(θ[10]) ├──■──┤ Ry(θ[12]) ├┤ Rz(θ[14]) ├┤ H ├┤M├───\n",
       "«      ├───────────┤┌─┴─┐├───────────┤├───────────┤├───┤└╥┘┌─┐\n",
       "«   1: ┤ Rz(θ[11]) ├┤ X ├┤ Ry(θ[13]) ├┤ Rz(θ[15]) ├┤ H ├─╫─┤M├\n",
       "«      └───────────┘└───┘└───────────┘└───────────┘└───┘ ║ └╥┘\n",
       "«c0: 2/══════════════════════════════════════════════════╩══╩═\n",
       "«                                                        0  1 "
      ]
     },
     "execution_count": 8,
     "metadata": {},
     "output_type": "execute_result"
    }
   ],
   "source": [
    "circ.draw()"
   ]
  },
  {
   "cell_type": "markdown",
   "id": "5085e0c6",
   "metadata": {},
   "source": [
    "This visualization shows the parametric trial state that is prepared and evaluated as part of VQE. The parameters, $\\theta[n]$, are assigned a value for each iteration."
   ]
  },
  {
   "cell_type": "code",
   "execution_count": 9,
   "id": "6dd36770",
   "metadata": {},
   "outputs": [
    {
     "data": {
      "text/html": [
       "<pre style=\"word-wrap: normal;white-space: pre;background: #fff0;line-height: 1.1;font-family: &quot;Courier New&quot;,Courier,monospace\">      ┌──────────────────────┐┌───────────────────────┐     »\n",
       "   0: ┤ Ry(2.64222137946031) ├┤ Rz(0.379953984461878) ├──■──»\n",
       "      ├──────────────────────┤├───────────────────────┤┌─┴─┐»\n",
       "   1: ┤ Ry(1.44307707650397) ├┤ Rz(-2.60468149529031) ├┤ X ├»\n",
       "      └──────────────────────┘└───────────────────────┘└───┘»\n",
       "c0: 2/══════════════════════════════════════════════════════»\n",
       "                                                            »\n",
       "«       ┌──────────────────────┐┌───────────────────────┐     »\n",
       "«   0: ─┤ Ry(2.81025659773418) ├┤ Rz(0.784133105026066) ├──■──»\n",
       "«      ┌┴──────────────────────┤├───────────────────────┤┌─┴─┐»\n",
       "«   1: ┤ Ry(0.177366802920612) ├┤ Rz(-1.36714306392063) ├┤ X ├»\n",
       "«      └───────────────────────┘└───────────────────────┘└───┘»\n",
       "«c0: 2/═══════════════════════════════════════════════════════»\n",
       "«                                                             »\n",
       "«      ┌───────────────────────┐ ┌──────────────────────┐     »\n",
       "«   0: ┤ Ry(0.106337799288022) ├─┤ Rz(1.98857084283676) ├──■──»\n",
       "«      ├───────────────────────┤┌┴──────────────────────┤┌─┴─┐»\n",
       "«   1: ┤ Ry(-2.03098040841544) ├┤ Rz(-1.70870039495155) ├┤ X ├»\n",
       "«      └───────────────────────┘└───────────────────────┘└───┘»\n",
       "«c0: 2/═══════════════════════════════════════════════════════»\n",
       "«                                                             »\n",
       "«       ┌─────────────────────┐ ┌───────────────────────┐┌───┐┌─┐   \n",
       "«   0: ─┤ Ry(-3.291375292123) ├─┤ Rz(-6.29435226567707) ├┤ H ├┤M├───\n",
       "«      ┌┴─────────────────────┴┐├───────────────────────┤├───┤└╥┘┌─┐\n",
       "«   1: ┤ Ry(-1.35222181841863) ├┤ Rz(-1.42635834428133) ├┤ H ├─╫─┤M├\n",
       "«      └───────────────────────┘└───────────────────────┘└───┘ ║ └╥┘\n",
       "«c0: 2/════════════════════════════════════════════════════════╩══╩═\n",
       "«                                                              0  1 </pre>"
      ],
      "text/plain": [
       "      ┌──────────────────────┐┌───────────────────────┐     »\n",
       "   0: ┤ Ry(2.64222137946031) ├┤ Rz(0.379953984461878) ├──■──»\n",
       "      ├──────────────────────┤├───────────────────────┤┌─┴─┐»\n",
       "   1: ┤ Ry(1.44307707650397) ├┤ Rz(-2.60468149529031) ├┤ X ├»\n",
       "      └──────────────────────┘└───────────────────────┘└───┘»\n",
       "c0: 2/══════════════════════════════════════════════════════»\n",
       "                                                            »\n",
       "«       ┌──────────────────────┐┌───────────────────────┐     »\n",
       "«   0: ─┤ Ry(2.81025659773418) ├┤ Rz(0.784133105026066) ├──■──»\n",
       "«      ┌┴──────────────────────┤├───────────────────────┤┌─┴─┐»\n",
       "«   1: ┤ Ry(0.177366802920612) ├┤ Rz(-1.36714306392063) ├┤ X ├»\n",
       "«      └───────────────────────┘└───────────────────────┘└───┘»\n",
       "«c0: 2/═══════════════════════════════════════════════════════»\n",
       "«                                                             »\n",
       "«      ┌───────────────────────┐ ┌──────────────────────┐     »\n",
       "«   0: ┤ Ry(0.106337799288022) ├─┤ Rz(1.98857084283676) ├──■──»\n",
       "«      ├───────────────────────┤┌┴──────────────────────┤┌─┴─┐»\n",
       "«   1: ┤ Ry(-2.03098040841544) ├┤ Rz(-1.70870039495155) ├┤ X ├»\n",
       "«      └───────────────────────┘└───────────────────────┘└───┘»\n",
       "«c0: 2/═══════════════════════════════════════════════════════»\n",
       "«                                                             »\n",
       "«       ┌─────────────────────┐ ┌───────────────────────┐┌───┐┌─┐   \n",
       "«   0: ─┤ Ry(-3.291375292123) ├─┤ Rz(-6.29435226567707) ├┤ H ├┤M├───\n",
       "«      ┌┴─────────────────────┴┐├───────────────────────┤├───┤└╥┘┌─┐\n",
       "«   1: ┤ Ry(-1.35222181841863) ├┤ Rz(-1.42635834428133) ├┤ H ├─╫─┤M├\n",
       "«      └───────────────────────┘└───────────────────────┘└───┘ ║ └╥┘\n",
       "«c0: 2/════════════════════════════════════════════════════════╩══╩═\n",
       "«                                                              0  1 "
      ]
     },
     "execution_count": 9,
     "metadata": {},
     "output_type": "execute_result"
    }
   ],
   "source": [
    "circ.assign_parameters(ret.optimal_parameters).draw()"
   ]
  },
  {
   "cell_type": "markdown",
   "id": "4d49d174",
   "metadata": {},
   "source": [
    "## 2. Run on Azure Quantum backend\n",
    "\n",
    "Now, you can connect to Azure quantum and run VQE on one of the backends."
   ]
  },
  {
   "cell_type": "code",
   "execution_count": 67,
   "id": "c042c41e",
   "metadata": {},
   "outputs": [],
   "source": [
    "from azure.quantum.qiskit import AzureQuantumProvider\n",
    "provider = AzureQuantumProvider(\n",
    "    resource_id = \"\",\n",
    "    location = \"\"\n",
    ")"
   ]
  },
  {
   "cell_type": "code",
   "execution_count": 90,
   "id": "014fdc41",
   "metadata": {},
   "outputs": [],
   "source": [
    "quantinuum_emulator = provider.get_backend(\"quantinuum.hqs-lt-s1-sim\")"
   ]
  },
  {
   "cell_type": "markdown",
   "id": "69a3a14c",
   "metadata": {},
   "source": [
    "### Estimate cost\n",
    "\n",
    "You can now estimate how many credits (\"HQC\"/\"EHQC\" for Quantinuum) it will cost to run VQE. For more information about pricing, see the [Azure Quantum pricing](https://docs.microsoft.com/azure/quantum/pricing) documentation page."
   ]
  },
  {
   "cell_type": "code",
   "execution_count": 83,
   "id": "ed975803",
   "metadata": {},
   "outputs": [],
   "source": [
    "cost = [quantinuum_backend.estimate_cost(circ, shots=1000) for circ in ready_circs]"
   ]
  },
  {
   "cell_type": "code",
   "execution_count": 84,
   "id": "9edf5289",
   "metadata": {},
   "outputs": [
    {
     "name": "stdout",
     "output_type": "stream",
     "text": [
      "16.6 EHQC\n",
      "16.2 EHQC\n"
     ]
    }
   ],
   "source": [
    "for _cost in cost:\n",
    "    print(_cost.estimated_total, _cost.currency_code)"
   ]
  },
  {
   "cell_type": "markdown",
   "id": "8924df25",
   "metadata": {},
   "source": [
    "So, given approx. 300 energy evaluations, this would give a total cost"
   ]
  },
  {
   "cell_type": "code",
   "execution_count": 87,
   "id": "627268da",
   "metadata": {},
   "outputs": [
    {
     "data": {
      "text/plain": [
       "(32.8, 9840.0)"
      ]
     },
     "execution_count": 87,
     "metadata": {},
     "output_type": "execute_result"
    }
   ],
   "source": [
    "energy_eval_cost = sum(_cost.estimated_total for _cost in cost)\n",
    "energy_eval_cost, energy_eval_cost * 300"
   ]
  },
  {
   "cell_type": "code",
   "execution_count": 91,
   "id": "13e44adb",
   "metadata": {},
   "outputs": [],
   "source": [
    "cost = [ionq_qpu_backend.estimate_cost(circ, shots=1000) for circ in ready_circs]"
   ]
  },
  {
   "cell_type": "code",
   "execution_count": 92,
   "id": "451f1310",
   "metadata": {},
   "outputs": [
    {
     "name": "stdout",
     "output_type": "stream",
     "text": [
      "1.44 USD\n",
      "1.38 USD\n"
     ]
    }
   ],
   "source": [
    "for _cost in cost:\n",
    "    print(_cost.estimated_total, _cost.currency_code)"
   ]
  },
  {
   "cell_type": "code",
   "execution_count": 2,
   "id": "0102d812",
   "metadata": {},
   "outputs": [
    {
     "data": {
      "text/plain": [
       "(32.8, 9840.0)"
      ]
     },
     "execution_count": 2,
     "metadata": {},
     "output_type": "execute_result"
    }
   ],
   "source": [
    "num_iterations = 300\n",
    "energy_eval_cost = sum(_cost.estimated_total for _cost in cost)\n",
    "energy_eval_cost, energy_eval_cost * num_iterations"
   ]
  },
  {
   "cell_type": "markdown",
   "id": "c478eaa4",
   "metadata": {},
   "source": [
    "To get a visual on the circuit width and depth, run:"
   ]
  },
  {
   "cell_type": "code",
   "execution_count": 78,
   "id": "cb9c3998",
   "metadata": {},
   "outputs": [
    {
     "name": "stdout",
     "output_type": "stream",
     "text": [
      "width | depth\n",
      "4 13\n",
      "4 12\n"
     ]
    }
   ],
   "source": [
    "print(\"width | depth\")\n",
    "for circuit in ready_circs:\n",
    "    circuit = remove_idle_qwires(circuit)\n",
    "    print(circuit.width(), circuit.depth())"
   ]
  },
  {
   "cell_type": "markdown",
   "id": "bc8a8b3e",
   "metadata": {},
   "source": [
    "### Run one iteration on Quantinuum emulator via Azure Quantum\n",
    "\n",
    "It can take a long time to run a full VQE program on hardware, because each iteration puts a circuit in the queue. To save time, run only the last iteration using the parameters we found with the Aer simulator."
   ]
  },
  {
   "cell_type": "code",
   "execution_count": 48,
   "id": "cedb793f",
   "metadata": {},
   "outputs": [],
   "source": [
    "# This is a bug that will be addressed in this PR: https://github.com/microsoft/qdk-python/pull/301\n",
    "quantinuum_backend.configuration().max_shots = None"
   ]
  },
  {
   "cell_type": "code",
   "execution_count": 58,
   "id": "a8c69fa4",
   "metadata": {},
   "outputs": [],
   "source": [
    "quantum_instance = QuantumInstance(backend=quantinuum_backend,\n",
    "                                   shots=8192)\n",
    "# Unset qjob config to avoid errors when running job.result()\n",
    "quantum_instance._qjob_config = {}"
   ]
  },
  {
   "cell_type": "code",
   "execution_count": 59,
   "id": "aa220dee",
   "metadata": {},
   "outputs": [],
   "source": [
    "optimizer = SPSA(maxiter=8192)\n",
    "var_form = EfficientSU2(qubit_op.num_qubits, entanglement=\"linear\")\n",
    "vqe = VQE(qubit_op, var_form, optimizer=optimizer, initial_point=p0)\n",
    "\n",
    "# Set the quantum instance manually\n",
    "vqe.quantum_instance = quantum_instance"
   ]
  },
  {
   "cell_type": "code",
   "execution_count": 186,
   "id": "72d1e062",
   "metadata": {},
   "outputs": [
    {
     "name": "stdout",
     "output_type": "stream",
     "text": [
      "....................."
     ]
    },
    {
     "data": {
      "text/plain": [
       "-1.1198872295256754"
      ]
     },
     "execution_count": 186,
     "metadata": {},
     "output_type": "execute_result"
    }
   ],
   "source": [
    "vqe._energy_evaluation(parameters=p0) + molecule.nuclear_repulsion_energy"
   ]
  }
 ],
 "metadata": {
  "kernelspec": {
   "display_name": "Python 3 (ipykernel)",
   "language": "python",
   "name": "python3"
  },
  "language_info": {
   "codemirror_mode": {
    "name": "ipython",
    "version": 3
   },
   "file_extension": ".py",
   "mimetype": "text/x-python",
   "name": "python",
   "nbconvert_exporter": "python",
   "pygments_lexer": "ipython3",
   "version": "3.9.10"
  }
 },
 "nbformat": 4,
 "nbformat_minor": 5
}
