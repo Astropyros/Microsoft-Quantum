{
  "cells": [
    {
      "cell_type": "markdown",
      "id": "47574490",
      "metadata": {},
      "source": [
        "# Simulate the ground state of a Hydrogen molecule using Variational Quantum Eigensolver (VQE) on the IonQ simulator\n",
        "\n",
        "![Image](data:image/jpeg;base64,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)\n",
        "\n",
        "In this notebook, you'll learn how to run VQE for a $H_{2}$ molecule on the IonQ simulator using Qiskit on an Azure Quantum backend.\n",
        "\n",
        "VQE is a variational algorithm for quantum chemistry that uses an optimization loop to minimize a cost function. The cost function is an energy evaluation $H|\\psi> = E|\\psi>$ where $|\\psi>$ is a parametric trial state that estimates the ground state of the molecule. For each evaluation, we modify the trial state until the energy reaches a minimum.\n",
        "\n",
        "For more information about running VQE using Qiskit, see: [Qiskit Textbook - VQE Molecules](https://qiskit.org/textbook/ch-applications/vqe-molecules.html#implementationnoisy).\n",
        "\n",
        "To read more about the optimization method used in this example, see [Wikipedia - SPSA](https://en.wikipedia.org/wiki/Simultaneous_perturbation_stochastic_approximation)."
      ]
    },
    {
      "cell_type": "markdown",
      "id": "8cd9e421-566b-4b46-8b1c-b173aba1df2b",
      "metadata": {
        "nteract": {
          "transient": {
            "deleting": false
          }
        }
      },
      "source": [
        "Before geting started, you need to install and import some packages."
      ]
    },
    {
      "cell_type": "code",
      "execution_count": 1,
      "id": "f8521fd7-03be-46c9-ae8e-929de0a8938d",
      "metadata": {
        "jupyter": {
          "outputs_hidden": false,
          "source_hidden": false
        },
        "nteract": {
          "transient": {
            "deleting": false
          }
        }
      },
      "outputs": [
        {
          "name": "stdout",
          "output_type": "stream",
          "text": [
            "Defaulting to user installation because normal site-packages is not writeable\n",
            "Requirement already satisfied: qiskit-aer in ./.local/lib/python3.7/site-packages (0.10.4)\n",
            "Requirement already satisfied: scipy>=1.0 in /usr/local/lib/python3.7/site-packages (from qiskit-aer) (1.7.3)\n",
            "Requirement already satisfied: numpy>=1.16.3 in /usr/local/lib/python3.7/site-packages (from qiskit-aer) (1.21.5)\n",
            "Requirement already satisfied: qiskit-terra>=0.19.1 in /usr/local/lib/python3.7/site-packages (from qiskit-aer) (0.20.0)\n",
            "Requirement already satisfied: psutil>=5 in /usr/local/lib/python3.7/site-packages (from qiskit-terra>=0.19.1->qiskit-aer) (5.9.0)\n",
            "Requirement already satisfied: ply>=3.10 in /usr/local/lib/python3.7/site-packages (from qiskit-terra>=0.19.1->qiskit-aer) (3.11)\n",
            "Requirement already satisfied: sympy>=1.3 in /usr/local/lib/python3.7/site-packages (from qiskit-terra>=0.19.1->qiskit-aer) (1.10.1)\n",
            "Requirement already satisfied: stevedore>=3.0.0 in /usr/local/lib/python3.7/site-packages (from qiskit-terra>=0.19.1->qiskit-aer) (3.5.0)\n",
            "Requirement already satisfied: tweedledum<2.0,>=1.1 in /usr/local/lib/python3.7/site-packages (from qiskit-terra>=0.19.1->qiskit-aer) (1.1.1)\n",
            "Requirement already satisfied: dill>=0.3 in /usr/local/lib/python3.7/site-packages (from qiskit-terra>=0.19.1->qiskit-aer) (0.3.4)\n",
            "Requirement already satisfied: retworkx>=0.11.0 in /usr/local/lib/python3.7/site-packages (from qiskit-terra>=0.19.1->qiskit-aer) (0.11.0)\n",
            "Requirement already satisfied: python-dateutil>=2.8.0 in /usr/local/lib/python3.7/site-packages (from qiskit-terra>=0.19.1->qiskit-aer) (2.8.2)\n",
            "Requirement already satisfied: symengine>=0.9 in /usr/local/lib/python3.7/site-packages (from qiskit-terra>=0.19.1->qiskit-aer) (0.9.2)\n",
            "Requirement already satisfied: python-constraint>=1.4 in /usr/local/lib/python3.7/site-packages (from qiskit-terra>=0.19.1->qiskit-aer) (1.4.0)\n",
            "Requirement already satisfied: six>=1.5 in /usr/local/lib/python3.7/site-packages (from python-dateutil>=2.8.0->qiskit-terra>=0.19.1->qiskit-aer) (1.16.0)\n",
            "Requirement already satisfied: importlib-metadata>=1.7.0 in /usr/local/lib/python3.7/site-packages (from stevedore>=3.0.0->qiskit-terra>=0.19.1->qiskit-aer) (2.1.3)\n",
            "Requirement already satisfied: pbr!=2.1.0,>=2.0.0 in /usr/local/lib/python3.7/site-packages (from stevedore>=3.0.0->qiskit-terra>=0.19.1->qiskit-aer) (5.8.1)\n",
            "Requirement already satisfied: mpmath>=0.19 in /usr/local/lib/python3.7/site-packages (from sympy>=1.3->qiskit-terra>=0.19.1->qiskit-aer) (1.2.1)\n",
            "Requirement already satisfied: zipp>=0.5 in /usr/local/lib/python3.7/site-packages (from importlib-metadata>=1.7.0->stevedore>=3.0.0->qiskit-terra>=0.19.1->qiskit-aer) (3.7.0)\n"
          ]
        }
      ],
      "source": [
        "!pip install qiskit-aer"
      ]
    },
    {
      "cell_type": "code",
      "execution_count": 2,
      "id": "71d2cb0b",
      "metadata": {},
      "outputs": [],
      "source": [
        "import matplotlib.pyplot as plt\n",
        "import numpy as np\n",
        "from qiskit import IBMQ, BasicAer, Aer\n",
        "from qiskit.aqua import QuantumInstance\n",
        "from qiskit.aqua.algorithms import VQE, NumPyEigensolver\n",
        "from qiskit.aqua.components.optimizers import COBYLA, SPSA, SLSQP\n",
        "from qiskit.aqua.operators import Z2Symmetries\n",
        "from qiskit.chemistry.components.variational_forms import UCCSD\n",
        "from qiskit.chemistry.components.initial_states import HartreeFock\n",
        "from qiskit.chemistry.drivers import PySCFDriver, UnitsType\n",
        "from qiskit.chemistry import FermionicOperator\n",
        "from qiskit.circuit.library import EfficientSU2\n",
        "from qiskit.ignis.mitigation.measurement import CompleteMeasFitter\n",
        "from qiskit.providers.aer.noise import NoiseModel"
      ]
    },
    {
      "cell_type": "markdown",
      "id": "7dadd1bf",
      "metadata": {},
      "source": [
        "First, prepare the qubit operators to get the one-body and two-body integrals that encode the Hydrogen molecule and map them onto qubits using Quantum gates.\n",
        "\n",
        "You'll use [PySCF](https://github.com/pyscf/pyscf) to generate the molecule, and [Qiskit Chemistry](https://quantum-computing.ibm.com/lab/docs/iql/chemistry) to encode it into Fermionic operators."
      ]
    },
    {
      "cell_type": "code",
      "execution_count": 3,
      "id": "9b4ce39a",
      "metadata": {},
      "outputs": [],
      "source": [
        "# Create a PySCF driver an generate the molecule\n",
        "driver = PySCFDriver(atom='H .0 .0 -0.3625; H .0 .0 0.3625', unit=UnitsType.ANGSTROM, charge=0, spin=0, basis='sto3g')\n",
        "molecule = driver.run()\n",
        "# Get the total number of particles in the molecule\n",
        "num_particles = molecule.num_alpha + molecule.num_beta\n",
        "# Convert one-body and two-body integrals into fermionic operators\n",
        "qubit_op = FermionicOperator(h1=molecule.one_body_integrals, h2=molecule.two_body_integrals).mapping(map_type='parity')\n",
        "qubit_op = Z2Symmetries.two_qubit_reduction(qubit_op, num_particles)"
      ]
    },
    {
      "cell_type": "markdown",
      "id": "50174a98",
      "metadata": {},
      "source": [
        "## 1. Simulate locally\n",
        "\n",
        "Here, you will simulate the program locally using the Aer simulator. You can create a `QuantumInstance` with a noise model, generated using a mock device `FakeVigo` with noise characteristics."
      ]
    },
    {
      "cell_type": "code",
      "execution_count": 4,
      "id": "737c1000",
      "metadata": {},
      "outputs": [],
      "source": [
        "from qiskit.test.mock import FakeVigo\n",
        "from qiskit.providers.aer import AerSimulator\n",
        "from qiskit.providers.aer import QasmSimulator\n",
        "from qiskit.providers.aer.noise import NoiseModel\n",
        "\n",
        "backend = AerSimulator()\n",
        "device_backend = FakeVigo()\n",
        "device = QasmSimulator.from_backend(device_backend)"
      ]
    },
    {
      "cell_type": "markdown",
      "id": "f9939a47",
      "metadata": {},
      "source": [
        "Then, run the simulation using the VQE class."
      ]
    },
    {
      "cell_type": "markdown",
      "id": "d3ceaa01",
      "metadata": {},
      "source": [
        "### Simulate locally with noise and error mitigation"
      ]
    },
    {
      "cell_type": "code",
      "execution_count": 5,
      "id": "2f799a78",
      "metadata": {},
      "outputs": [
        {
          "name": "stdout",
          "output_type": "stream",
          "text": [
            "Exact Result: [-1.13722138]\n",
            "VQE Result on noisy simulator: -1.0958617195350147\n"
          ]
        }
      ],
      "source": [
        "# Create the noise characteristics and other parameters that describe the device\n",
        "coupling_map = device.configuration().coupling_map\n",
        "noise_model = NoiseModel.from_backend(device)\n",
        "basis_gates = noise_model.basis_gates\n",
        "\n",
        "# Create the quantum instance to conncet to the backend\n",
        "quantum_instance = QuantumInstance(backend=backend, \n",
        "                                   shots=8192, \n",
        "                                   noise_model=noise_model, \n",
        "                                   coupling_map=coupling_map,\n",
        "                                   measurement_error_mitigation_cls=CompleteMeasFitter,\n",
        "                                   cals_matrix_refresh_period=30)\n",
        "\n",
        "# Calculate the exact solution using numpy\n",
        "exact_solution = NumPyEigensolver(qubit_op).run()\n",
        "print(\"Exact Result:\", np.real(exact_solution.eigenvalues) + molecule.nuclear_repulsion_energy)\n",
        "\n",
        "# Create an optimizer (using SPSA)\n",
        "optimizer = SPSA(maxiter=100)\n",
        "\n",
        "# Create the variational form\n",
        "var_form = EfficientSU2(qubit_op.num_qubits, entanglement=\"linear\")\n",
        "\n",
        "# Create a VQE object that runs VQE using the above created qubit operations, variational form and optimizer\n",
        "vqe = VQE(qubit_op, var_form, optimizer=optimizer)\n",
        "\n",
        "# Run the full VQE program\n",
        "ret = vqe.run(quantum_instance)\n",
        "\n",
        "# Get and print the result\n",
        "vqe_result = np.real(ret['eigenvalue'] + molecule.nuclear_repulsion_energy)\n",
        "print(\"VQE Result on noisy simulator:\", vqe_result)"
      ]
    },
    {
      "cell_type": "markdown",
      "id": "8a7dd86d",
      "metadata": {},
      "source": [
        "The parameters found by the optimization loop:"
      ]
    },
    {
      "cell_type": "code",
      "execution_count": 6,
      "id": "57b42add",
      "metadata": {},
      "outputs": [
        {
          "data": {
            "text/plain": [
              "array([ 0.75759584,  2.68404484,  1.15902937, -1.71621361, -2.46762699,\n",
              "       -1.09722578,  0.07579694,  0.88938069,  1.2065511 ,  0.15724757,\n",
              "        2.30434445,  0.37531045,  1.74550594,  1.64111366, -2.00842078,\n",
              "       -1.14800172])"
            ]
          },
          "execution_count": 6,
          "metadata": {},
          "output_type": "execute_result"
        }
      ],
      "source": [
        "p0 = ret.optimal_point\n",
        "p0"
      ]
    },
    {
      "cell_type": "markdown",
      "id": "e19dd20c",
      "metadata": {},
      "source": [
        "The energy was evaluated a total of `ret.cost_function_evals` times until the minimum was found."
      ]
    },
    {
      "cell_type": "code",
      "execution_count": 7,
      "id": "1d273554",
      "metadata": {},
      "outputs": [
        {
          "data": {
            "text/plain": [
              "241"
            ]
          },
          "execution_count": 7,
          "metadata": {},
          "output_type": "execute_result"
        }
      ],
      "source": [
        "ret.cost_function_evals"
      ]
    },
    {
      "cell_type": "markdown",
      "id": "4517f80e",
      "metadata": {},
      "source": [
        "### Circuit visualization\n",
        "\n",
        "Each energy evaluation consists of two circuits that are run. You can visualize these circuits with Qiskit using the `vqe` instance."
      ]
    },
    {
      "cell_type": "code",
      "execution_count": 8,
      "id": "c247b443",
      "metadata": {},
      "outputs": [],
      "source": [
        "# The VQE class generates extra unused wires.\n",
        "# This function is to remove idle wires to make the visualization more readable.\n",
        "# See: https://quantumcomputing.stackexchange.com/questions/25672/remove-inactive-qubits-from-qiskit-circuit\n",
        "from qiskit.converters import circuit_to_dag, dag_to_circuit\n",
        "from collections import OrderedDict\n",
        "\n",
        "def remove_idle_qwires(circ):\n",
        "    dag = circuit_to_dag(circ)\n",
        "\n",
        "    idle_wires = list(dag.idle_wires())\n",
        "    for w in idle_wires:\n",
        "        dag._remove_idle_wire(w)\n",
        "        dag.qubits.remove(w)\n",
        "\n",
        "    dag.qregs = OrderedDict()\n",
        "\n",
        "    return dag_to_circuit(dag)\n",
        "\n",
        "circs = vqe._circuit_sampler._transpiled_circ_cache\n",
        "circs = [remove_idle_qwires(circ) for circ in circs]\n",
        "circ = circs[0]"
      ]
    },
    {
      "cell_type": "code",
      "execution_count": 9,
      "id": "df32ec4b",
      "metadata": {},
      "outputs": [
        {
          "data": {
            "text/html": [
              "<pre style=\"word-wrap: normal;white-space: pre;background: #fff0;line-height: 1.1;font-family: &quot;Courier New&quot;,Courier,monospace\">      ┌──────────┐┌──────────┐     ┌──────────┐┌──────────┐     ┌──────────┐»\n",
              "   0: ┤ Ry(θ[0]) ├┤ Rz(θ[2]) ├──■──┤ Ry(θ[4]) ├┤ Rz(θ[6]) ├──■──┤ Ry(θ[8]) ├»\n",
              "      ├──────────┤├──────────┤┌─┴─┐├──────────┤├──────────┤┌─┴─┐├──────────┤»\n",
              "   1: ┤ Ry(θ[1]) ├┤ Rz(θ[3]) ├┤ X ├┤ Ry(θ[5]) ├┤ Rz(θ[7]) ├┤ X ├┤ Ry(θ[9]) ├»\n",
              "      └──────────┘└──────────┘└───┘└──────────┘└──────────┘└───┘└──────────┘»\n",
              "c0: 2/══════════════════════════════════════════════════════════════════════»\n",
              "                                                                            »\n",
              "«      ┌───────────┐     ┌───────────┐┌───────────┐┌───┐┌─┐   \n",
              "«   0: ┤ Rz(θ[10]) ├──■──┤ Ry(θ[12]) ├┤ Rz(θ[14]) ├┤ H ├┤M├───\n",
              "«      ├───────────┤┌─┴─┐├───────────┤├───────────┤├───┤└╥┘┌─┐\n",
              "«   1: ┤ Rz(θ[11]) ├┤ X ├┤ Ry(θ[13]) ├┤ Rz(θ[15]) ├┤ H ├─╫─┤M├\n",
              "«      └───────────┘└───┘└───────────┘└───────────┘└───┘ ║ └╥┘\n",
              "«c0: 2/══════════════════════════════════════════════════╩══╩═\n",
              "«                                                        0  1 </pre>"
            ],
            "text/plain": [
              "      ┌──────────┐┌──────────┐     ┌──────────┐┌──────────┐     ┌──────────┐»\n",
              "   0: ┤ Ry(θ[0]) ├┤ Rz(θ[2]) ├──■──┤ Ry(θ[4]) ├┤ Rz(θ[6]) ├──■──┤ Ry(θ[8]) ├»\n",
              "      ├──────────┤├──────────┤┌─┴─┐├──────────┤├──────────┤┌─┴─┐├──────────┤»\n",
              "   1: ┤ Ry(θ[1]) ├┤ Rz(θ[3]) ├┤ X ├┤ Ry(θ[5]) ├┤ Rz(θ[7]) ├┤ X ├┤ Ry(θ[9]) ├»\n",
              "      └──────────┘└──────────┘└───┘└──────────┘└──────────┘└───┘└──────────┘»\n",
              "c0: 2/══════════════════════════════════════════════════════════════════════»\n",
              "                                                                            »\n",
              "«      ┌───────────┐     ┌───────────┐┌───────────┐┌───┐┌─┐   \n",
              "«   0: ┤ Rz(θ[10]) ├──■──┤ Ry(θ[12]) ├┤ Rz(θ[14]) ├┤ H ├┤M├───\n",
              "«      ├───────────┤┌─┴─┐├───────────┤├───────────┤├───┤└╥┘┌─┐\n",
              "«   1: ┤ Rz(θ[11]) ├┤ X ├┤ Ry(θ[13]) ├┤ Rz(θ[15]) ├┤ H ├─╫─┤M├\n",
              "«      └───────────┘└───┘└───────────┘└───────────┘└───┘ ║ └╥┘\n",
              "«c0: 2/══════════════════════════════════════════════════╩══╩═\n",
              "«                                                        0  1 "
            ]
          },
          "execution_count": 9,
          "metadata": {},
          "output_type": "execute_result"
        }
      ],
      "source": [
        "circ.draw()"
      ]
    },
    {
      "cell_type": "markdown",
      "id": "767fc7ea",
      "metadata": {},
      "source": [
        "This shows the parametric trial state that is prepared and evaluated as part of VQE. The parameters, $\\theta[n]$, are assigned a value for each iteration."
      ]
    },
    {
      "cell_type": "code",
      "execution_count": 10,
      "id": "b49d5c4a",
      "metadata": {},
      "outputs": [
        {
          "data": {
            "text/html": [
              "<pre style=\"word-wrap: normal;white-space: pre;background: #fff0;line-height: 1.1;font-family: &quot;Courier New&quot;,Courier,monospace\">      ┌───────────────────────┐ ┌──────────────────────┐     »\n",
              "   0: ┤ Ry(0.757595837955051) ├─┤ Rz(1.20655109607776) ├──■──»\n",
              "      ├───────────────────────┤┌┴──────────────────────┤┌─┴─┐»\n",
              "   1: ┤ Ry(0.889380691478043) ├┤ Rz(0.157247566275449) ├┤ X ├»\n",
              "      └───────────────────────┘└───────────────────────┘└───┘»\n",
              "c0: 2/═══════════════════════════════════════════════════════»\n",
              "                                                             »\n",
              "«       ┌──────────────────────┐┌──────────────────────┐     »\n",
              "«   0: ─┤ Ry(2.30434445294033) ├┤ Rz(1.74550593976197) ├──■──»\n",
              "«      ┌┴──────────────────────┤├──────────────────────┤┌─┴─┐»\n",
              "«   1: ┤ Ry(0.375310451918903) ├┤ Rz(1.64111365590957) ├┤ X ├»\n",
              "«      └───────────────────────┘└──────────────────────┘└───┘»\n",
              "«c0: 2/══════════════════════════════════════════════════════»\n",
              "«                                                            »\n",
              "«      ┌───────────────────────┐┌──────────────────────┐     »\n",
              "«   0: ┤ Ry(-2.00842078118953) ├┤ Rz(2.68404483537343) ├──■──»\n",
              "«      ├───────────────────────┤├──────────────────────┤┌─┴─┐»\n",
              "«   1: ┤ Ry(-1.14800172093999) ├┤ Rz(1.15902936540107) ├┤ X ├»\n",
              "«      └───────────────────────┘└──────────────────────┘└───┘»\n",
              "«c0: 2/══════════════════════════════════════════════════════»\n",
              "«                                                            »\n",
              "«      ┌───────────────────────┐┌───────────────────────┐ ┌───┐┌─┐   \n",
              "«   0: ┤ Ry(-1.71621360731209) ├┤ Rz(-1.09722578377892) ├─┤ H ├┤M├───\n",
              "«      ├───────────────────────┤├───────────────────────┴┐├───┤└╥┘┌─┐\n",
              "«   1: ┤ Ry(-2.46762699108509) ├┤ Rz(0.0757969361872165) ├┤ H ├─╫─┤M├\n",
              "«      └───────────────────────┘└────────────────────────┘└───┘ ║ └╥┘\n",
              "«c0: 2/═════════════════════════════════════════════════════════╩══╩═\n",
              "«                                                               0  1 </pre>"
            ],
            "text/plain": [
              "      ┌───────────────────────┐ ┌──────────────────────┐     »\n",
              "   0: ┤ Ry(0.757595837955051) ├─┤ Rz(1.20655109607776) ├──■──»\n",
              "      ├───────────────────────┤┌┴──────────────────────┤┌─┴─┐»\n",
              "   1: ┤ Ry(0.889380691478043) ├┤ Rz(0.157247566275449) ├┤ X ├»\n",
              "      └───────────────────────┘└───────────────────────┘└───┘»\n",
              "c0: 2/═══════════════════════════════════════════════════════»\n",
              "                                                             »\n",
              "«       ┌──────────────────────┐┌──────────────────────┐     »\n",
              "«   0: ─┤ Ry(2.30434445294033) ├┤ Rz(1.74550593976197) ├──■──»\n",
              "«      ┌┴──────────────────────┤├──────────────────────┤┌─┴─┐»\n",
              "«   1: ┤ Ry(0.375310451918903) ├┤ Rz(1.64111365590957) ├┤ X ├»\n",
              "«      └───────────────────────┘└──────────────────────┘└───┘»\n",
              "«c0: 2/══════════════════════════════════════════════════════»\n",
              "«                                                            »\n",
              "«      ┌───────────────────────┐┌──────────────────────┐     »\n",
              "«   0: ┤ Ry(-2.00842078118953) ├┤ Rz(2.68404483537343) ├──■──»\n",
              "«      ├───────────────────────┤├──────────────────────┤┌─┴─┐»\n",
              "«   1: ┤ Ry(-1.14800172093999) ├┤ Rz(1.15902936540107) ├┤ X ├»\n",
              "«      └───────────────────────┘└──────────────────────┘└───┘»\n",
              "«c0: 2/══════════════════════════════════════════════════════»\n",
              "«                                                            »\n",
              "«      ┌───────────────────────┐┌───────────────────────┐ ┌───┐┌─┐   \n",
              "«   0: ┤ Ry(-1.71621360731209) ├┤ Rz(-1.09722578377892) ├─┤ H ├┤M├───\n",
              "«      ├───────────────────────┤├───────────────────────┴┐├───┤└╥┘┌─┐\n",
              "«   1: ┤ Ry(-2.46762699108509) ├┤ Rz(0.0757969361872165) ├┤ H ├─╫─┤M├\n",
              "«      └───────────────────────┘└────────────────────────┘└───┘ ║ └╥┘\n",
              "«c0: 2/═════════════════════════════════════════════════════════╩══╩═\n",
              "«                                                               0  1 "
            ]
          },
          "execution_count": 10,
          "metadata": {},
          "output_type": "execute_result"
        }
      ],
      "source": [
        "circ.assign_parameters(ret.optimal_parameters).draw()"
      ]
    },
    {
      "cell_type": "markdown",
      "id": "4d49d174",
      "metadata": {},
      "source": [
        "## 2. Run on IonQ simulator via Azure Quantum Workspace\n",
        "\n",
        "Now, you can connect to the Azure Quantum Workspace and run VQE on the hardware backends."
      ]
    },
    {
      "cell_type": "code",
      "execution_count": 11,
      "id": "c042c41e",
      "metadata": {},
      "outputs": [],
      "source": [
        "# Connect to the Azure Quantum Workspace via a Qiskit provider\n",
        "from azure.quantum.qiskit import AzureQuantumProvider\n",
        "provider = AzureQuantumProvider(\n",
        "    resource_id = \"\",\n",
        "    location = \"\"\n",
        ")\n",
        "\n",
        "# Create IonQ simulator backend\n",
        "ionq_simulator_backend = provider.get_backend(\"ionq.simulator\")"
      ]
    },
    {
      "cell_type": "markdown",
      "id": "bc8a8b3e",
      "metadata": {},
      "source": [
        "### Run one iteration on IonQ simulator via Azure Quantum\n",
        "\n",
        "It can take a long time to run a full VQE program on hardware, because each iteration puts a circuit in the queue. To save time and cost, let's run only the last (optimal) iteration using the parameters we found with the Aer simulator."
      ]
    },
    {
      "cell_type": "code",
      "execution_count": 12,
      "id": "72446518",
      "metadata": {},
      "outputs": [],
      "source": [
        "# This is a bug that will be addressed in this PR: https://github.com/microsoft/qdk-python/pull/301\n",
        "ionq_simulator_backend.configuration().max_shots = None"
      ]
    },
    {
      "cell_type": "code",
      "execution_count": 13,
      "id": "2ba3e580",
      "metadata": {},
      "outputs": [],
      "source": [
        "# Create Quantum Instance\n",
        "quantum_instance = QuantumInstance(backend=ionq_simulator_backend,\n",
        "                                   shots=8192)\n",
        "# Unset qjob config to avoid errors when running job.result()\n",
        "quantum_instance._qjob_config = {}"
      ]
    },
    {
      "cell_type": "code",
      "execution_count": 14,
      "id": "e764cfe4",
      "metadata": {},
      "outputs": [],
      "source": [
        "# Create optimizer with only one iteration\n",
        "optimizer = SPSA(maxiter=1)\n",
        "# Create the variational form of the ansatz\n",
        "var_form = EfficientSU2(qubit_op.num_qubits, entanglement=\"linear\")\n",
        "# Create a VQE object that runs the algorithm\n",
        "vqe = VQE(qubit_op, var_form, optimizer=optimizer)\n",
        "# Set the quantum instance to be able to run only the last iteration\n",
        "vqe.quantum_instance = quantum_instance"
      ]
    },
    {
      "cell_type": "markdown",
      "id": "abb4e575-c468-4df4-a9af-426829237a16",
      "metadata": {
        "nteract": {
          "transient": {
            "deleting": false
          }
        }
      },
      "source": [
        "The below cell will evaluate the energy at `p0` using the IonQ simulator.\n",
        "\n",
        "You have to add the molecular nuclear repulsion energy to the final result to get the ground state of the molecule."
      ]
    },
    {
      "cell_type": "code",
      "execution_count": 15,
      "id": "f55a0f10",
      "metadata": {},
      "outputs": [
        {
          "name": "stdout",
          "output_type": "stream",
          "text": [
            "......"
          ]
        },
        {
          "data": {
            "text/plain": [
              "-1.1328210248074357"
            ]
          },
          "execution_count": 15,
          "metadata": {},
          "output_type": "execute_result"
        }
      ],
      "source": [
        "vqe._energy_evaluation(parameters=p0) + molecule.nuclear_repulsion_energy"
      ]
    }
  ],
  "metadata": {
    "kernel_info": {
      "name": "python3"
    },
    "kernelspec": {
      "display_name": "Python 3 (ipykernel)",
      "language": "python",
      "name": "python3"
    },
    "language_info": {
      "codemirror_mode": {
        "name": "ipython",
        "version": 3
      },
      "file_extension": ".py",
      "mimetype": "text/x-python",
      "name": "python",
      "nbconvert_exporter": "python",
      "pygments_lexer": "ipython3",
      "version": "3.7.13"
    },
    "nteract": {
      "version": "nteract-front-end@1.0.0"
    }
  },
  "nbformat": 4,
  "nbformat_minor": 5
}
