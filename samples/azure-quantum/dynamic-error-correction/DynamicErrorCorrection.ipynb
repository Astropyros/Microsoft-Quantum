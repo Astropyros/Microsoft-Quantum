{
  "cells": [
    {
      "attachments": {},
      "cell_type": "markdown",
      "metadata": {},
      "source": [
        "# Integrated Hybrid: Dynamic error correction\n",
        "This sample builds from the first sample, _Integrated Hybrid: blending classical and quantum computing_, and creates a simple dynamic error correction scheme.\n",
        "\n",
        "Find more about how to program with Integrated hybrid at https://aka.ms/AQ/Hybrid/Docs\n",
        "\n",
        "In this program you will learn to:\n",
        "1. **Represent a logical qubit** through a register.\n",
        "2. **Perfom a dynamic error correction**. <br/>The error correction scheme is trivial. It assumes that a single bit-flip error has occurred and does not consider the possibility of errors occurring during the measurement of the ancillary qubits."
      ]
    },
    {
      "cell_type": "code",
      "execution_count": null,
      "metadata": {
        "jupyter": {
          "outputs_hidden": false,
          "source_hidden": false
        },
        "nteract": {
          "transient": {
            "deleting": false
          }
        }
      },
      "outputs": [],
      "source": [
        "%azure.connect \"/subscriptions/subscriptionId/resourceGroups/resourceGroupName/providers/Microsoft.Quantum/Workspaces/workspaceName\" location=\"westus\""
      ]
    },
    {
      "cell_type": "code",
      "execution_count": null,
      "metadata": {},
      "outputs": [],
      "source": [
        "open Microsoft.Quantum.Intrinsic;\n",
        "open Microsoft.Quantum.Math;\n",
        "open Microsoft.Quantum.Measurement;"
      ]
    },
    {
      "cell_type": "markdown",
      "metadata": {
        "nteract": {
          "transient": {
            "deleting": false
          }
        }
      },
      "source": [
        "## 1. Encode a qubit register\n",
        "The qubit register now represents a logical qubit."
      ]
    },
    {
      "cell_type": "code",
      "execution_count": null,
      "metadata": {},
      "outputs": [],
      "source": [
        "operation Encode(register : Qubit[]) : Unit is Adj {\n",
        "    CNOT(register[0], register[1]);\n",
        "    CNOT(register[0], register[2]);\n",
        "}"
      ]
    },
    {
      "cell_type": "markdown",
      "metadata": {
        "nteract": {
          "transient": {
            "deleting": false
          }
        }
      },
      "source": [
        "## 2. Set value for each register\n",
        "Arbitrarily, we set the register value to One."
      ]
    },
    {
      "cell_type": "code",
      "execution_count": null,
      "metadata": {},
      "outputs": [],
      "source": [
        "operation LogicalX(register : Qubit[]) : Unit {\n",
        "    for qubit in register {\n",
        "        X(qubit);\n",
        "    }\n",
        "}"
      ]
    },
    {
      "attachments": {},
      "cell_type": "markdown",
      "metadata": {
        "nteract": {
          "transient": {
            "deleting": false
          }
        }
      },
      "source": [
        "## 3. Perform arbitrary operation\n",
        "The Rx gate has a period of 4 * pi. Applying ```PI() * 0.5``` 8 times should return the qubit to its original state.\n",
        "<br/>As we are manipulating physical qubits, we are however expecting some errors to be introduced."
      ]
    },
    {
      "cell_type": "code",
      "execution_count": null,
      "metadata": {},
      "outputs": [],
      "source": [
        "operation ApplyLogicalOperation(register : Qubit[]) : Unit is Adj {\n",
        "    let theta = PI() * 0.5;\n",
        "    for i in 1 .. 8 {\n",
        "        for qubit in register {\n",
        "            Rx(theta, qubit);\n",
        "        }\n",
        "    }\n",
        "}"
      ]
    },
    {
      "cell_type": "markdown",
      "metadata": {
        "nteract": {
          "transient": {
            "deleting": false
          }
        }
      },
      "source": [
        "## 4. Verify the parity between qubits"
      ]
    },
    {
      "cell_type": "code",
      "execution_count": null,
      "metadata": {},
      "outputs": [],
      "source": [
        "operation MeasureSyndrome(register : Qubit[]) : (Result, Result) {\n",
        "    let parity01 = Measure([PauliZ, PauliZ, PauliI], register);\n",
        "    let parity12 = Measure([PauliI, PauliZ, PauliZ], register);\n",
        "    return (parity01, parity12);\n",
        "}"
      ]
    },
    {
      "cell_type": "markdown",
      "metadata": {
        "nteract": {
          "transient": {
            "deleting": false
          }
        }
      },
      "source": [
        "## 5. Attempt to correct errors\n",
        "You are leveraging a specific integrated hybrid capability here: branching based on measurement."
      ]
    },
    {
      "cell_type": "code",
      "execution_count": null,
      "metadata": {},
      "outputs": [],
      "source": [
        "operation CorrectError(register : Qubit[], parity01 : Result, parity12 : Result) : Bool {\n",
        "    if (parity01 == One and parity12 == Zero) {\n",
        "         X(register[0]); \n",
        "    }\n",
        "    elif (parity01 == One and parity12 == One) {\n",
        "        X(register[1]);\n",
        "    }\n",
        "    elif (parity01 == Zero and parity12 == One) {\n",
        "        X(register[2]);\n",
        "    }\n",
        "\n",
        "    return parity01 == One or parity12 == One;\n",
        "}"
      ]
    },
    {
      "attachments": {},
      "cell_type": "markdown",
      "metadata": {
        "nteract": {
          "transient": {
            "deleting": false
          }
        }
      },
      "source": [
        "## 6. Define the DynamicBitFlipCode operation\n",
        "Take all of the operations defined above and iterate multiple times:\n",
        "1. Apply a logical operation that may introduce errors.\n",
        "2. Attempt to correct introduced error and increment error count accordingly.\n",
        "3. Measure the register to read the logical qubit value.\n",
        "4. Report the value of each logical qubit."
      ]
    },
    {
      "cell_type": "code",
      "execution_count": null,
      "metadata": {},
      "outputs": [],
      "source": [
        "operation DynamicBitFlipCode() : (Result, Int){\n",
        "    // Create a registers that represents a logical qubit.\n",
        "    use localRegister = Qubit[3];\n",
        "\n",
        "    // Apply several unitary operations to the encoded qubits performing error correction between each application.\n",
        "    mutable corrections = 0;\n",
        "    within {\n",
        "        // Encode/Decode logical qubit.\n",
        "        Encode(localRegister);\n",
        "    }\n",
        "    apply {\n",
        "        LogicalX(localRegister);\n",
        "        let iterations = 5;\n",
        "        for _ in 1 .. iterations {\n",
        "            // Apply unitary operations.\n",
        "            ApplyLogicalOperation(localRegister);\n",
        "\n",
        "            // Perform error correction and increase the counter if a correction was made.\n",
        "            let (parityA01, parityA12) = MeasureSyndrome(localRegister);\n",
        "            let correctedError = CorrectError(localRegister, parityA01, parityA12);\n",
        "            if (correctedError) {\n",
        "                set corrections += 1;\n",
        "            }\n",
        "        }\n",
        "    }\n",
        "\n",
        "    // Measure the first qubit in register and return value.\n",
        "    let result = MResetZ(localRegister[0]);\n",
        "    ResetAll(localRegister);\n",
        "    return (result, corrections);\n",
        "}"
      ]
    },
    {
      "attachments": {},
      "cell_type": "markdown",
      "metadata": {},
      "source": [
        "## 7. Submit the DynamicBitFlipCode operation\n",
        "Using 50 shots, as configured below, **submitting this program will use approximately 11.31 units (HQCs or eHQCs)**.<br/>\n",
        "If the job has not been completed after the client times out (300 seconds), you can query the status using `%azure.status` followed by querying the output using `%azure.output`.<br/>\n",
        "If the kernel was restarted after the program had been submitted, you will have to use `%azure.status <job_id>` to get the status of the job and `%azure.output <job_id>` to retrieve the results.<br/>\n",
        "You can also check the status of the job under the **Job management** section of the portal.\n",
        "\n",
        "**Understanding the results**<br/>\n",
        "The histogram reports the ratio of the various outputs.</br>\n",
        "For instance, if you get:</br>\n",
        "- `Result: (1,0) Frequency: 0.92` means that in 92% of the total number of shots the operation returned a qubit with the value One and that no error correction was necessary.</br>\n",
        "- `Result: (0,2) Frequency: 0.02` means that in 2% of the total number of shots the operation returned a qubit with the value Zero and that 2 error corrections were performed. The error correction failed as the value flipped.</br>\n",
        "- `Result: (0,0) Frequency: 0` means that in 2% of the total number of shots the operation returned a qubit with the value One and that 2 error corrections were performed. The error correction failed as the value flipped.</br>\n",
        "- `Result: (1,2) Frequency: 0.02` means that in 2% of the total number of shots the operation returned a qubit with the value One and that 2 error corrections were performed."
      ]
    },
    {
      "cell_type": "code",
      "execution_count": null,
      "metadata": {},
      "outputs": [],
      "source": [
        "%azure.target quantinuum.sim.h1-1e-preview\n",
        "%azure.target-capability AdaptiveExecution\n",
        "%azure.execute DynamicBitFlipCode shots=50 timeout=300 poll=10"
      ]
    },
    {
      "cell_type": "code",
      "execution_count": null,
      "metadata": {
        "jupyter": {
          "outputs_hidden": false,
          "source_hidden": false
        },
        "nteract": {
          "transient": {
            "deleting": false
          }
        }
      },
      "outputs": [],
      "source": [
        "%azure.status"
      ]
    },
    {
      "cell_type": "code",
      "execution_count": null,
      "metadata": {
        "jupyter": {
          "outputs_hidden": false,
          "source_hidden": false
        },
        "nteract": {
          "transient": {
            "deleting": false
          }
        }
      },
      "outputs": [],
      "source": [
        "%azure.output"
      ]
    },
    {
      "attachments": {},
      "cell_type": "markdown",
      "metadata": {
        "nteract": {
          "transient": {
            "deleting": false
          }
        }
      },
      "source": [
        "# ↗ Run an advanced experiment - Iterative phase estimation\n",
        "Now that you have learned the basics of Integrated hybrid, experiment with the Iterative phase estimation sample available in the sample gallery as well.</br>\n",
        "To learn more, please refer to the [online documentation](https://aka.ms/AQ/Hybrid/Docs)."
      ]
    }
  ],
  "metadata": {
    "kernelspec": {
     "display_name": "Q#",
     "language": "qsharp",
     "name": "iqsharp"
    },
    "language_info": {
     "file_extension": ".qs",
     "mimetype": "text/x-qsharp",
     "name": "qsharp",
     "version": "0.14"
    }
   },
  "nbformat": 4,
  "nbformat_minor": 0
}
