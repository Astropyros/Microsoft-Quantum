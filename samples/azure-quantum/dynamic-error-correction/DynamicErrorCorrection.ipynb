{
  "cells": [
    {
      "attachments": {},
      "cell_type": "markdown",
      "metadata": {},
      "source": [
        "# Dynamic error correction\n",
        "This sample demonstrates how to create a 3 qubit repetition code that can be used to detect and correct bit flip errors. It leverages integrated hybrid computing features to count the number of times error correction was performed while the state of a logical qubit register is coherent.\n",
        "\n",
        "Find more about integrated quantum computing at https://aka.ms/AQ/Hybrid/Docs\n",
        "\n",
        "In this program you will learn to:\n",
        "1. Encode a logical qubit using a 3 qubit repetition code.\n",
        "2. Perform error correction when a bit flip error occurs.\n",
        "3. Use classical compute to count the number of times error correction was performed.\n",
        "## Connect to the Azure Quantum workspace\n",
        "First, find the resource ID of your Azure Quantum workspace. You can copy/paste this from the top-right corner of your Quantum Workspace page in Azure Portal.\n",
        "\n",
        "Next, you can run `%azure.connect` to connect to the workspace and display the list of provisioned targets that support execution of Q# programs. If you are prompted to login, be sure to use the same account you used to create your Azure Quantum workspace."
      ]
    },
    {
      "cell_type": "code",
      "execution_count": null,
      "metadata": {
        "jupyter": {
          "outputs_hidden": false,
          "source_hidden": false
        },
        "nteract": {
          "transient": {
            "deleting": false
          }
        }
      },
      "outputs": [],
      "source": [
        "%azure.connect \"/subscriptions/subscriptionId/resourceGroups/resourceGroupName/providers/Microsoft.Quantum/Workspaces/workspaceName\" location=\"westus\""
      ]
    },
    {
      "attachments": {},
      "cell_type": "markdown",
      "metadata": {},
      "source": [
        "## Open the required Q# namespaces\n",
        "First, open the Q# namespaces that provide the necessary operations to implement this sample.\n"
      ]
    },
    {
      "cell_type": "code",
      "execution_count": null,
      "metadata": {},
      "outputs": [],
      "source": [
        "open Microsoft.Quantum.Intrinsic;\n",
        "open Microsoft.Quantum.Math;\n",
        "open Microsoft.Quantum.Measurement;"
      ]
    },
    {
      "cell_type": "markdown",
      "metadata": {
        "nteract": {
          "transient": {
            "deleting": false
          }
        }
      },
      "source": [
        "## Encode a logical qubit using a repetition code\n",
        "The following operation is used to encode a 3 qubit register into a single logical qubit using an error correcting repetition code."
      ]
    },
    {
      "cell_type": "code",
      "execution_count": null,
      "metadata": {},
      "outputs": [],
      "source": [
        "operation Encode(register : Qubit[]) : Unit is Adj {\n",
        "    CNOT(register[0], register[1]);\n",
        "    CNOT(register[0], register[2]);\n",
        "}"
      ]
    },
    {
      "attachments": {},
      "cell_type": "markdown",
      "metadata": {
        "nteract": {
          "transient": {
            "deleting": false
          }
        }
      },
      "source": [
        "## Implement an operation that could introduce errors\n",
        "In order to test our error correction code, we can apply an operation to our logical qubit that is equivalent to applying an identity operation.\n",
        "To achieve this, we can apply a few rotations about the x-axis such that after applying them the logical qubit is in the same state it was intially in.\n",
        "Since the `Rx` operation has a $4\\pi$ period, applying a $\\frac{\\pi}{2}$ rotation 8 times should return the qubit to its original state.\n",
        "Note that since the register represents a logical qubit, rotations are applied to each qubit in the reguster.\n",
        "\n",
        "The errors introduced by applying these rotations is what our program will attempt to correct."
      ]
    },
    {
      "cell_type": "code",
      "execution_count": null,
      "metadata": {},
      "outputs": [],
      "source": [
        "operation ApplyRotationalIdentity(register : Qubit[]) : Unit is Adj\n",
        "{\n",
        "    let theta = PI() * 0.5;\n",
        "    for i in 1 .. 8 {\n",
        "        for qubit in register\n",
        "        {\n",
        "            Rx(theta, qubit);\n",
        "        }\n",
        "    }\n",
        "}\n"
      ]
    },
    {
      "cell_type": "markdown",
      "metadata": {
        "nteract": {
          "transient": {
            "deleting": false
          }
        }
      },
      "source": [
        "## Measure a bit flip error syndrome",
        "The following operation measures a bit flip error syndrome by checking the parities between qubits 0 and 1, and between qubits 1 and 2.\n",
        "\n",
        "This operation uses a 2 qubit auxiliary register and leverages integrated hybrid computing capabilities: mid-program qubit measurement and qubit re-use. For an error correction program, these features reduce the number of qubits needed because otherwise we would have to use 2 additional qubits every time we wanted to measure the error syndrome."
      ]
    },
    {
      "cell_type": "code",
      "execution_count": null,
      "metadata": {},
      "outputs": [],
      "source": [
        "operation MeasureSyndrome(logicalRegister : Qubit[], auxiliaryRegister : Qubit[]) : (Result, Result)\n",
        "{\n",
        "    ResetAll(auxiliaryRegister);\n",
        "    CNOT(logicalRegister[0], auxiliaryRegister[0]);\n",
        "    CNOT(logicalRegister[1], auxiliaryRegister[0]);\n",
        "    CNOT(logicalRegister[1], auxiliaryRegister[1]);\n",
        "    CNOT(logicalRegister[2], auxiliaryRegister[1]);\n",
        "    let parity01 = MResetZ(auxiliaryRegister[0]);\n",
        "    let parity12 = MResetZ(auxiliaryRegister[1]);\n",
        "    return (parity01, parity12);\n",
        "}\n"
      ]
    },
    {
      "cell_type": "markdown",
      "metadata": {
        "nteract": {
          "transient": {
            "deleting": false
          }
        }
      },
      "source": [
        "## Use error syndrome to correct errors\n",
        "The following operation applies a corrective operation to a specific qubit in the register depending on the provided error syndrome and returns a boolean that represents whether any a correction was performed on any of the qubits\n.",
        "\n",
        "This operation uses another integrated hybrid computing capability, branching based on qubit measurements. As we can observe, a different quantum operation is performed depending on the measurement results."
      ]
    },
    {
      "cell_type": "code",
      "execution_count": null,
      "metadata": {},
      "outputs": [],
      "source": [
        "operation CorrectError(register : Qubit[], parity01 : Result, parity12 : Result) : Bool {\n",
        "    if (parity01 == One and parity12 == Zero) {\n",
        "         X(register[0]); \n",
        "    }\n",
        "    elif (parity01 == One and parity12 == One) {\n",
        "        X(register[1]);\n",
        "    }\n",
        "    elif (parity01 == Zero and parity12 == One) {\n",
        "        X(register[2]);\n",
        "    }\n",
        "\n",
        "    return parity01 == One or parity12 == One;\n",
        "}"
      ]
    },
    {
      "attachments": {},
      "cell_type": "markdown",
      "metadata": {
        "nteract": {
          "transient": {
            "deleting": false
          }
        }
      },
      "source": [
        "## 6. Define the DynamicBitFlipCode operation\n",
        "Take all of the operations defined above and iterate multiple times:\n",
        "1. Apply a logical operation that may introduce errors.\n",
        "2. Attempt to correct introduced error and increment error count accordingly.\n",
        "3. Measure the register to read the logical qubit value.\n",
        "4. Report the value of each logical qubit."
      ]
    },
    {
      "cell_type": "code",
      "execution_count": null,
      "metadata": {},
      "outputs": [],
      "source": [
        "operation DynamicBitFlipCode() : (Result, Int){\n",
        "    // Create a registers that represents a logical qubit.\n",
        "    use localRegister = Qubit[3];\n",
        "\n",
        "    // Apply several unitary operations to the encoded qubits performing error correction between each application.\n",
        "    mutable corrections = 0;\n",
        "    within {\n",
        "        // Encode/Decode logical qubit.\n",
        "        Encode(localRegister);\n",
        "    }\n",
        "    apply {\n",
        "        LogicalX(localRegister);\n",
        "        let iterations = 5;\n",
        "        for _ in 1 .. iterations {\n",
        "            // Apply unitary operations.\n",
        "            ApplyLogicalOperation(localRegister);\n",
        "\n",
        "            // Perform error correction and increase the counter if a correction was made.\n",
        "            let (parityA01, parityA12) = MeasureSyndrome(localRegister);\n",
        "            let correctedError = CorrectError(localRegister, parityA01, parityA12);\n",
        "            if (correctedError) {\n",
        "                set corrections += 1;\n",
        "            }\n",
        "        }\n",
        "    }\n",
        "\n",
        "    // Measure the first qubit in register and return value.\n",
        "    let result = MResetZ(localRegister[0]);\n",
        "    ResetAll(localRegister);\n",
        "    return (result, corrections);\n",
        "}"
      ]
    },
    {
      "attachments": {},
      "cell_type": "markdown",
      "metadata": {},
      "source": [
        "## 7. Submit the DynamicBitFlipCode operation\n",
        "Using 50 shots, as configured below, **submitting this program will use approximately 11.31 units (HQCs or eHQCs)**.<br/>\n",
        "If the job has not been completed after the client times out (300 seconds), you can query the status using `%azure.status` followed by querying the output using `%azure.output`.<br/>\n",
        "If the kernel was restarted after the program had been submitted, you will have to use `%azure.status <job_id>` to get the status of the job and `%azure.output <job_id>` to retrieve the results.<br/>\n",
        "You can also check the status of the job under the **Job management** section of the portal.\n",
        "\n",
        "**Understanding the results**<br/>\n",
        "The histogram reports the ratio of the various outputs.</br>\n",
        "For instance, if you get:</br>\n",
        "- `Result: (1,0) Frequency: 0.92` means that in 92% of the total number of shots the operation returned a qubit with the value One and that no error correction was necessary.</br>\n",
        "- `Result: (0,2) Frequency: 0.02` means that in 2% of the total number of shots the operation returned a qubit with the value Zero and that 2 error corrections were performed. The error correction failed as the value flipped.</br>\n",
        "- `Result: (0,0) Frequency: 0` means that in 2% of the total number of shots the operation returned a qubit with the value One and that 2 error corrections were performed. The error correction failed as the value flipped.</br>\n",
        "- `Result: (1,2) Frequency: 0.02` means that in 2% of the total number of shots the operation returned a qubit with the value One and that 2 error corrections were performed."
      ]
    },
    {
      "cell_type": "code",
      "execution_count": null,
      "metadata": {},
      "outputs": [],
      "source": [
        "%azure.target quantinuum.sim.h1-1e\n",
        "%azure.target-capability AdaptiveExecution\n",
        "%azure.execute DynamicBitFlipCode shots=50 timeout=300 poll=10"
      ]
    },
    {
      "cell_type": "code",
      "execution_count": null,
      "metadata": {
        "jupyter": {
          "outputs_hidden": false,
          "source_hidden": false
        },
        "nteract": {
          "transient": {
            "deleting": false
          }
        }
      },
      "outputs": [],
      "source": [
        "%azure.status"
      ]
    },
    {
      "cell_type": "code",
      "execution_count": null,
      "metadata": {
        "jupyter": {
          "outputs_hidden": false,
          "source_hidden": false
        },
        "nteract": {
          "transient": {
            "deleting": false
          }
        }
      },
      "outputs": [],
      "source": [
        "%azure.output"
      ]
    },
    {
      "attachments": {},
      "cell_type": "markdown",
      "metadata": {
        "nteract": {
          "transient": {
            "deleting": false
          }
        }
      },
      "source": [
        "# ↗ Run an advanced experiment - Iterative phase estimation\n",
        "Now that you have learned the basics of Integrated hybrid, experiment with the Iterative phase estimation sample available in the sample gallery as well.</br>\n",
        "To learn more, please refer to the [online documentation](https://aka.ms/AQ/Hybrid/Docs)."
      ]
    }
  ],
  "metadata": {
    "kernelspec": {
     "display_name": "Q#",
     "language": "qsharp",
     "name": "iqsharp"
    },
    "language_info": {
     "file_extension": ".qs",
     "mimetype": "text/x-qsharp",
     "name": "qsharp",
     "version": "0.14"
    }
   },
  "nbformat": 4,
  "nbformat_minor": 0
}
