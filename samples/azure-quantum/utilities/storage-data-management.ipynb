{
  "cells": [
    {
      "cell_type": "markdown",
      "metadata": {
        "nteract": {
          "transient": {
            "deleting": false
          }
        }
      },
      "source": [
        "# Data Management Sample\n",
        "This sample shows you how to connect and use Azure Quantum with external datasources such as Azure Blob Storage. "
      ]
    },
    {
      "cell_type": "markdown",
      "metadata": {
        "nteract": {
          "transient": {
            "deleting": false
          }
        }
      },
      "source": [
        "## Work with data in Azure Blob Storage\n",
        "This section will show you how to work with JSON and other file types in Blob Storage.\n",
        "\n",
        "Prerequisites:\n",
        "- Storage Account\n",
        "\n",
        "You must have a Azure Storage account deployed to use Blob Storage for your data. If you are accessing this sample through Azure Quantum hosted notebooks, you should already have a Storage account set up for your [Quantum Workspace](https://docs.microsoft.com/azure/quantum/how-to-create-workspace?tabs=tabid-quick). \n",
        "You can find details for this storage account by navigating to your Azure Quantum Workspace in the portal - it is shown in the 'Essentials' section at the top - if you click the name of the storage account it will take you to view it in the portal.\n",
        "\n",
        "If you wish to use a different storage account, you can absolutely do so. More information on setting up a storage account can be found [here](https://docs.microsoft.com/azure/storage/common/storage-account-create?tabs=azure-portal).\n"
      ]
    },
    {
      "cell_type": "markdown",
      "metadata": {
        "nteract": {
          "transient": {
            "deleting": false
          }
        }
      },
      "source": [
        "### Setup\n",
        "You can find more information about the Blob Storage SDK [here](https://docs.microsoft.com/python/api/overview/azure/storage-blob-readme?view=azure-python)."
      ]
    },
    {
      "cell_type": "code",
      "execution_count": null,
      "metadata": {
        "jupyter": {
          "outputs_hidden": false,
          "source_hidden": false
        },
        "nteract": {
          "transient": {
            "deleting": false
          }
        }
      },
      "outputs": [],
      "source": [
        "# Import Azure Storage Python SDK & json utils\n",
        "from azure.storage.blob import BlobServiceClient\n",
        "import json"
      ]
    },
    {
      "cell_type": "code",
      "execution_count": null,
      "metadata": {
        "jupyter": {
          "outputs_hidden": false,
          "source_hidden": false
        },
        "nteract": {
          "transient": {
            "deleting": false
          }
        }
      },
      "outputs": [],
      "source": [
        "# Log in to the Azure CLI (only need to do once per session)\n",
        "!az login"
      ]
    },
    {
      "cell_type": "markdown",
      "metadata": {
        "nteract": {
          "transient": {
            "deleting": false
          }
        }
      },
      "source": [
        "### Connect to Blob Storage\n",
        "\n",
        "You can choose to set up a Blob Storage container for anonymous access which means no authentication is required - in that case you do not need to provide any credentials and can simply use the URL to refer directly your file (see the `Import data from URL` section for details on how to do this).\n",
        "\n",
        "There are several authentication options available, feel free to choose one from the selection shared [here](https://docs.microsoft.com/python/api/overview/azure/storage-blob-readme?view=azure-python#types-of-credentials). For the purposes of this sample, we will use the [connection string method](https://docs.microsoft.com/python/api/overview/azure/storage-blob-readme?view=azure-python#creating-the-client-from-a-connection-string).\n",
        "\n",
        "You can use the storage account attached to your Azure Quantum Workspace or any other storage account that you like. For further information on the Azure Blob Storage service, please refer to the docs [here](https://docs.microsoft.com/azure/storage/blobs/storage-blobs-introduction).\n",
        "\n",
        "> Don't forget to update the details in the cell below to match those for your storage account and resource group. "
      ]
    },
    {
      "cell_type": "code",
      "execution_count": null,
      "metadata": {
        "jupyter": {
          "outputs_hidden": false,
          "source_hidden": false
        },
        "nteract": {
          "transient": {
            "deleting": false
          }
        }
      },
      "outputs": [],
      "source": [
        "# Get the connection string for your storage account by specifying the name of the storage account as well as the resource group you deployed it into\n",
        "# Update the last two parameters to the names for your storage account and resource group\n",
        "az_cli_output = !az storage account show-connection-string -g my-resource-group-name -n my-storage-account-name\n",
        "az_cli_output = json.loads(\"\".join(az_cli_output))\n",
        "\n",
        "# Extract connection string from CLI output\n",
        "connection_string = az_cli_output[\"connectionString\"]\n",
        "\n",
        "# Create blob service client to connect with the Blob Storage service \n",
        "service_client = BlobServiceClient.from_connection_string(conn_str=connection_string)"
      ]
    },
    {
      "cell_type": "markdown",
      "metadata": {
        "nteract": {
          "transient": {
            "deleting": false
          }
        }
      },
      "source": [
        "### Create a Blob Storage container\n",
        "If you don't already have a container set up in your Blob Storage account to store your files, you can use the following code snippet to create one."
      ]
    },
    {
      "cell_type": "code",
      "execution_count": null,
      "metadata": {
        "jupyter": {
          "outputs_hidden": false,
          "source_hidden": false
        },
        "nteract": {
          "transient": {
            "deleting": false
          }
        }
      },
      "outputs": [],
      "source": [
        "from azure.storage.blob import ContainerClient\n",
        "\n",
        "# Create container client using the connection string for your storage account\n",
        "# Replace \"data\" with your choice of container name or keep \"data\" for ease of use during the rest of this sample\n",
        "container_client = ContainerClient.from_connection_string(conn_str=connection_string, container_name=\"data\")\n",
        "container_client.create_container()"
      ]
    },
    {
      "cell_type": "markdown",
      "metadata": {
        "nteract": {
          "transient": {
            "deleting": false
          }
        }
      },
      "source": [
        "### List files in a Blob Storage container\n",
        "\n",
        "This will allow you to view the files you have already stored in the container. You can also view these files [in the portal](https://docs.microsoft.com/azure/storage/blobs/storage-quickstart-blobs-portal) or through the [Storage Explorer desktop application](https://docs.microsoft.com/azure/storage/blobs/quickstart-storage-explorer)."
      ]
    },
    {
      "cell_type": "code",
      "execution_count": null,
      "metadata": {
        "jupyter": {
          "outputs_hidden": false,
          "source_hidden": false
        },
        "nteract": {
          "transient": {
            "deleting": false
          }
        }
      },
      "outputs": [],
      "source": [
        "from azure.storage.blob import ContainerClient\n",
        "\n",
        "# Create container client using the connection string for your storage account\n",
        "container = ContainerClient.from_connection_string(conn_str=connection_string, container_name=\"data\")\n",
        "\n",
        "# Fetch list of blobs in the container\n",
        "blob_list = container.list_blobs()\n",
        "\n",
        "# Print list of available blobs\n",
        "for blob in blob_list:\n",
        "    print(blob.name)"
      ]
    },
    {
      "cell_type": "markdown",
      "metadata": {
        "nteract": {
          "transient": {
            "deleting": false
          }
        }
      },
      "source": [
        "### Download JSON data"
      ]
    },
    {
      "cell_type": "code",
      "execution_count": null,
      "metadata": {
        "jupyter": {
          "outputs_hidden": false,
          "source_hidden": false
        },
        "nteract": {
          "transient": {
            "deleting": false
          }
        }
      },
      "outputs": [],
      "source": [
        "# Create blob client for your file\n",
        "blob_client = service_client.get_blob_client(container=\"data\", blob=\"file.json\")\n",
        "\n",
        "# Download file from blob storage & parse JSON into input_data object\n",
        "download_stream = blob_client.download_blob()\n",
        "input_data = json.loads(download_stream.readall())"
      ]
    },
    {
      "cell_type": "markdown",
      "metadata": {
        "nteract": {
          "transient": {
            "deleting": false
          }
        }
      },
      "source": [
        "### Download text/other data"
      ]
    },
    {
      "cell_type": "code",
      "execution_count": null,
      "metadata": {
        "jupyter": {
          "outputs_hidden": false,
          "source_hidden": false
        },
        "nteract": {
          "transient": {
            "deleting": false
          }
        }
      },
      "outputs": [],
      "source": [
        "# Create blob client for your file\n",
        "blob_client = service_client.get_blob_client(container=\"data\", blob=\"file.txt\")\n",
        "\n",
        "# Download file from blob storage & assign to input_data bytes object\n",
        "download_stream = blob_client.download_blob()\n",
        "input_data = download_stream.readall()"
      ]
    },
    {
      "cell_type": "markdown",
      "metadata": {
        "nteract": {
          "transient": {
            "deleting": false
          }
        }
      },
      "source": [
        "### Upload JSON data"
      ]
    },
    {
      "cell_type": "code",
      "execution_count": null,
      "metadata": {
        "jupyter": {
          "outputs_hidden": false,
          "source_hidden": false
        },
        "nteract": {
          "transient": {
            "deleting": false
          }
        }
      },
      "outputs": [],
      "source": [
        "# Define object for upload\n",
        "json_data_for_upload = {\n",
        "    \"data\": {\n",
        "        \"type\": \"demo\",\n",
        "        \"value\": 123\n",
        "    }\n",
        "}\n",
        "\n",
        "# Create blob client for the new file\n",
        "blob_client = service_client.get_blob_client(container=\"data\", blob=\"uploaded_json_file.json\")\n",
        "\n",
        "# Upload JSON data\n",
        "# Enable/disable overwrite to specify behaviour when a blob already exists with that name\n",
        "blob_client.upload_blob(json.dumps(json_data_for_upload), overwrite=True)"
      ]
    },
    {
      "cell_type": "markdown",
      "metadata": {
        "nteract": {
          "transient": {
            "deleting": false
          }
        }
      },
      "source": [
        "### Upload text/other data"
      ]
    },
    {
      "cell_type": "code",
      "execution_count": null,
      "metadata": {
        "jupyter": {
          "outputs_hidden": false,
          "source_hidden": false
        },
        "nteract": {
          "transient": {
            "deleting": false
          }
        }
      },
      "outputs": [],
      "source": [
        "# Define text for upload\n",
        "text_data_for_upload = \"Some text to upload to a file. File could be .csv, .txt or any other format you choose.\"\n",
        "\n",
        "# Create blob client for the new file (make sure to choose the appropriate extension e.g. .txt or .csv)\n",
        "blob_client = service_client.get_blob_client(container=\"data\", blob=\"uploaded_text_file.txt\")\n",
        "\n",
        "# Upload data\n",
        "# Enable/disable overwrite to specify behaviour when a blob already exists with that name\n",
        "blob_client.upload_blob(text_data_for_upload, overwrite=True)"
      ]
    },
    {
      "cell_type": "markdown",
      "metadata": {
        "nteract": {
          "transient": {
            "deleting": false
          }
        }
      },
      "source": [
        "## Work with data from an external URL\n",
        "The following code snippet shows you how to load data from a URL (with no authentication) and save the data to a file in Blob Storage."
      ]
    },
    {
      "cell_type": "markdown",
      "metadata": {
        "nteract": {
          "transient": {
            "deleting": false
          }
        }
      },
      "source": [
        "### Download data from URL"
      ]
    },
    {
      "cell_type": "code",
      "execution_count": null,
      "metadata": {
        "jupyter": {
          "outputs_hidden": false,
          "source_hidden": false
        },
        "nteract": {
          "transient": {
            "deleting": false
          }
        }
      },
      "outputs": [],
      "source": [
        "# Import requests module\n",
        "import requests\n",
        "\n",
        "# Paste the URL for your file here\n",
        "url = \"url-to-data\"\n",
        "\n",
        "# Get data from URL\n",
        "r = requests.get(url)\n",
        "\n",
        "# Work with the data - e.g. could upload to Blob Storage after processing\n",
        "# See https://www.w3schools.com/PYTHON/ref_requests_response.asp for further properties of the requests.Response object which you can use for processing\n",
        "data_bytes = r.content"
      ]
    },
    {
      "cell_type": "markdown",
      "metadata": {
        "nteract": {
          "transient": {
            "deleting": false
          }
        }
      },
      "source": [
        "## Save data to local storage (temporary storage)\n",
        "You can use the following code snippets to write data to local storage. Local storage is treated as a temp storage location as it is hard to locate local files afterwards and the storage may not persist across sessions. It is therefore recommended that you only use this for temporary file operations and use the Blob Storage access methods provided in this sample to more permanently store your data."
      ]
    },
    {
      "cell_type": "markdown",
      "metadata": {
        "nteract": {
          "transient": {
            "deleting": false
          }
        }
      },
      "source": [
        "### Save JSON data to file in local storage"
      ]
    },
    {
      "cell_type": "code",
      "execution_count": null,
      "metadata": {
        "jupyter": {
          "outputs_hidden": false,
          "source_hidden": false
        },
        "nteract": {
          "transient": {
            "deleting": false
          }
        }
      },
      "outputs": [],
      "source": [
        "# Write JSON to local storage\n",
        "with open(\"file.json\", 'w') as f:\n",
        "    f.write(json.dumps(input_data))"
      ]
    },
    {
      "cell_type": "markdown",
      "metadata": {
        "nteract": {
          "transient": {
            "deleting": false
          }
        }
      },
      "source": [
        "### Save text/other data to file in local storage"
      ]
    },
    {
      "cell_type": "code",
      "execution_count": null,
      "metadata": {
        "jupyter": {
          "outputs_hidden": false,
          "source_hidden": false
        },
        "nteract": {
          "transient": {
            "deleting": false
          }
        }
      },
      "outputs": [],
      "source": [
        "# Write text to local storage\n",
        "with open(\"file.txt\", 'w') as f:\n",
        "    f.write(\"Text to write to file.\")"
      ]
    },
    {
      "cell_type": "markdown",
      "metadata": {
        "nteract": {
          "transient": {
            "deleting": false
          }
        }
      },
      "source": [
        "### Save bytes to file in local storage"
      ]
    },
    {
      "cell_type": "code",
      "execution_count": null,
      "metadata": {
        "jupyter": {
          "outputs_hidden": false,
          "source_hidden": false
        },
        "nteract": {
          "transient": {
            "deleting": false
          }
        }
      },
      "outputs": [],
      "source": [
        "# Write file bytes to local storage\n",
        "with open(\"file.extension\", 'wb') as f:\n",
        "    f.write(r.content) # Bytes content from requests.Response object previously returned from get request"
      ]
    },
    {
      "cell_type": "markdown",
      "metadata": {
        "nteract": {
          "transient": {
            "deleting": false
          }
        }
      },
      "source": [
        "## End-to-end example\n",
        "\n",
        "The sample below shows how to load a spin-orbital Hamiltonian from a file containing orbital integrals. Features of the Hamiltonian are then computed and the results are saved to a .csv file in Blob Storage. The input data is loaded from a publicly-accessible GitHub URL.\n",
        "\n",
        "The code for this example is taken directly from the [chemistry section of the samples repo](https://github.com/microsoft/Quantum/tree/main/samples/chemistry). This specific example computes the features for Ozone:\n",
        "\n",
        "> Ozone is formed from dioxygen by the action of ultraviolet light (UV) and electrical discharges within the Earth's atmosphere. It is present in very low concentrations throughout the latter, with its highest concentration high in the ozone layer of the stratosphere, which absorbs most of the Sun's ultraviolet (UV) radiation. Quantum mechanical excited-state studies, including localization of avoided crossings and conical intersection play a critical role in understanding its role in Earth atmosphere."
      ]
    },
    {
      "cell_type": "markdown",
      "metadata": {
        "nteract": {
          "transient": {
            "deleting": false
          }
        }
      },
      "source": [
        "### Setup\n",
        "You only need to run the two cells below if you have not already run the cells from the `Setup` and `Connect to Blob Storage` sections at the start of this sample."
      ]
    },
    {
      "cell_type": "code",
      "execution_count": null,
      "metadata": {
        "jupyter": {
          "outputs_hidden": false,
          "source_hidden": false
        },
        "nteract": {
          "transient": {
            "deleting": false
          }
        }
      },
      "outputs": [],
      "source": [
        "# Log in to the Azure CLI (only need to do once per session)\n",
        "!az login"
      ]
    },
    {
      "cell_type": "code",
      "execution_count": null,
      "metadata": {
        "jupyter": {
          "outputs_hidden": false,
          "source_hidden": false
        },
        "nteract": {
          "transient": {
            "deleting": false
          }
        }
      },
      "outputs": [],
      "source": [
        "# Get the connection string for your storage account by specifying the name of the storage account as well as the resource group you deployed it into\n",
        "# Update the last two parameters to the names for your storage account and resource group\n",
        "az_cli_output = !az storage account show-connection-string -g my-resource-group-name -n my-storage-account-name\n",
        "az_cli_output = json.loads(\"\".join(az_cli_output))\n",
        "\n",
        "# Extract connection string from CLI output\n",
        "connection_string = az_cli_output[\"connectionString\"]\n",
        "\n",
        "# Create blob service client to connect with the Blob Storage service \n",
        "service_client = BlobServiceClient.from_connection_string(conn_str=connection_string)"
      ]
    },
    {
      "cell_type": "markdown",
      "metadata": {
        "nteract": {
          "transient": {
            "deleting": false
          }
        }
      },
      "source": [
        "### Compute Hamiltonian features for the Ozone molecule\n",
        "You can find further orbital integral data in the samples repo [here](https://github.com/microsoft/Quantum/tree/main/samples/chemistry/IntegralData/YAML).\n",
        "\n",
        "To load data from a GitHub URL using the `requests` module, you need to use the 'raw' content URL (should have `raw.githubusercontent.com` as the domain). \n",
        "\n",
        "You can find this URL by navigating to the file you would like to use and selecting 'Raw' from the panel at the top of the document view. This should reload the page - use the URL for the page that just loaded."
      ]
    },
    {
      "cell_type": "code",
      "execution_count": null,
      "metadata": {
        "jupyter": {
          "outputs_hidden": false,
          "source_hidden": false
        },
        "nteract": {
          "transient": {
            "deleting": false
          }
        }
      },
      "outputs": [],
      "source": [
        "import numpy as np\n",
        "from numpy import linalg as LA\n",
        "from qsharp.chemistry import load_broombridge, load_fermion_hamiltonian, IndexConvention\n",
        "import requests\n",
        "\n",
        "# Fetch data from URL\n",
        "# See note above for instructions on how to test with other files\n",
        "r = requests.get(\"https://raw.githubusercontent.com/microsoft/Quantum/main/samples/chemistry/IntegralData/YAML/O3_ccpvtz/o3_13_6_6_90deg_ccvtz.yaml\")\n",
        "\n",
        "ozone_filename = \"o3_13_6_6_90deg_ccvtz.yaml\"\n",
        "\n",
        "# Write file to local storage (temp storage)\n",
        "with open(ozone_filename, 'wb') as f:\n",
        "    f.write(r.content) \n",
        "\n",
        "print(f\"Processing the following file: {ozone_filename}\\n\")\n",
        "\n",
        "# Load Broombridge schema for Ozone\n",
        "broombridge = load_broombridge(ozone_filename)\n",
        "\n",
        "# Load Hamiltonian data\n",
        "general_hamiltonian = broombridge.problem_description[0].load_fermion_hamiltonian(index_convention=IndexConvention.UpDown)\n",
        "\n",
        "# Calculate one-norms and save results to output string\n",
        "output = \"Type,one-norm\\n\"\n",
        "print(\"End of file. Computing One-norms:\")\n",
        "for term, matrix in general_hamiltonian.terms:\n",
        "    one_norm = LA.norm(np.asarray([v for k, v in matrix], dtype=np.float32), ord=1)\n",
        "    output += f\"{term},{one_norm}\\n\"\n",
        "    print(f\"\\tOne-norm for term type {term}: {one_norm}\")\n",
        "\n",
        "print()\n",
        "\n",
        "# Create blob client for the new .csv output file\n",
        "blob_client = service_client.get_blob_client(container=\"data\", blob=\"ozone_results.csv\")\n",
        "\n",
        "# Upload data to Blob Storage\n",
        "# Enable/disable overwrite to specify behaviour when a blob already exists with that name\n",
        "blob_client.upload_blob(output, overwrite=True)\n"
      ]
    },
    {
      "cell_type": "code",
      "execution_count": null,
      "metadata": {
        "jupyter": {
          "outputs_hidden": false,
          "source_hidden": false
        },
        "nteract": {
          "transient": {
            "deleting": false
          }
        }
      },
      "outputs": [],
      "source": []
    }
  ],
  "metadata": {
    "kernel_info": {
      "name": "python3"
    },
    "kernelspec": {
      "display_name": "Python 3 (ipykernel)",
      "language": "python",
      "name": "python3"
    },
    "language_info": {
      "codemirror_mode": {
        "name": "ipython",
        "version": 3
      },
      "file_extension": ".py",
      "mimetype": "text/x-python",
      "name": "python",
      "nbconvert_exporter": "python",
      "pygments_lexer": "ipython3",
      "version": "3.7.13"
    },
    "nteract": {
      "version": "nteract-front-end@1.0.0"
    }
  },
  "nbformat": 4,
  "nbformat_minor": 0
}
