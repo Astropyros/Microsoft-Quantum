{
  "cells": [
    {
      "cell_type": "markdown",
      "source": [
        "# Adapting Qiskit samples to run on Azure Quantum\r\n",
        "\r\n",
        "If you have some experience with quantum computing or are just starting, it is likely that you will use some samples from Qiskit.org. This Jupyter notebook walks you through 4 simple steps to adapt an existing Qiskit sample to run against any of the Azure Quantum back-ends."
      ],
      "metadata": {
        "nteract": {
          "transient": {
            "deleting": false
          }
        }
      }
    },
    {
      "cell_type": "markdown",
      "source": [
        "# 1. Download a sample from Qiskit.org\r\n",
        "Let's say you want to try the QAOA sample: https://qiskit.org/textbook/ch-applications/qaoa.html\r\n",
        "\r\n",
        "1. Locate the **Download as Jupyter Notebook** hyperlink on the right side of the page\r\n",
        "2. Download the Jupyter Notebook\r\n",
        "3. Open your Azure Quantum workspace > **Notebooks**\r\n",
        "4. Click **My notebooks** > ...\r\n",
        "5. Click on the **Upload new** button and select the notebook your just downloaded\r\n",
        "6. Open the newly imported notebook"
      ],
      "metadata": {
        "nteract": {
          "transient": {
            "deleting": false
          }
        }
      }
    },
    {
      "cell_type": "markdown",
      "source": [
        "# 2. Locate the aer_simulator\r\n",
        "Most samples are configured to run by default against the aer_simulator, which is a great way to get started.\r\n",
        "\r\n",
        "1. Locate the cell that has a line like the following:\r\n",
        "**backend = Aer.get_backend('aer_simulator')**\r\n",
        "2. Comment out that line\r\n",
        "\r\n"
      ],
      "metadata": {
        "nteract": {
          "transient": {
            "deleting": false
          }
        }
      }
    },
    {
      "cell_type": "markdown",
      "source": [
        "# 3. Replace the aer_simulator with an Azure Quantum backend\r\n",
        "\r\n",
        "1. Add a new code cell prior to the cell that had backend = Aer.get_backend('aer_simulator')\r\n",
        "2. Add the following code\r\n",
        "\r\n",
        "```\r\n",
        "from azure.quantum.qiskit import AzureQuantumProvider\r\n",
        "provider = AzureQuantumProvider (\r\n",
        "    resource_id = \"\",\r\n",
        "    location = \"\"\r\n",
        ")\r\n",
        "\r\n",
        "# Create IonQ simulator and QPU backends\r\n",
        "ionq_simulator_backend = provider.get_backend(\"ionq.simulator\")\r\n",
        "ionq_qpu_backend = provider.get_backend(\"ionq.qpu.aria-1\")\r\n",
        "\r\n",
        "# Create Rigetti simulator and QPU backends\r\n",
        "rigetti_simulator_backend = provider.get_backend(\"rigetti.sim.qvm\")\r\n",
        "rigetti_qpu_backend = provider.get_backend(\"rigetti.qpu.aspen-m-3\")\r\n",
        "\r\n",
        "# Create Quantinuum simulator and QPU backends\r\n",
        "quantinuum_simulator_backend = provider.get_backend(\"quantinuum.sim.h1-2sc\")\r\n",
        "quantinuum_qpu_backend = provider.get_backend(\"quantinuum.qpu.h1-2\")\r\n",
        "\r\n",
        "backend = ionq_simulator_backend\r\n",
        "```\r\n",
        "\r\n"
      ],
      "metadata": {
        "nteract": {
          "transient": {
            "deleting": false
          }
        }
      }
    },
    {
      "cell_type": "markdown",
      "source": [
        "# 4. Update code with your workspace information\r\n",
        "\r\n",
        "1. Make sure you save your notebook. Click **Save**. Never too sure :)\r\n",
        "2. In the left pane of your Azure Quantum workspace, click **Overview**\r\n",
        "3. In the top right, copy the Resource Id, by clickin on the **Copy to clipboard** icon that appears when you hover it.\r\n",
        "4.Memorize the **Location** (for instance 'West Europe')\r\n",
        "5. Open again your notebook (Notebooks > My notebooks)\r\n",
        "6. Add the Resource Id to **resource_id** in the AzureQuantumProvider\r\n",
        "7. Repeat for the **location** using the Location you memorized in step 4."
      ],
      "metadata": {
        "nteract": {
          "transient": {
            "deleting": false
          }
        }
      }
    },
    {
      "cell_type": "markdown",
      "source": [
        "# You are ready!\r\n",
        "Do a **Run all** and verify that you have jobs being queued under Job management."
      ],
      "metadata": {
        "nteract": {
          "transient": {
            "deleting": false
          }
        }
      }
    }
  ],
  "metadata": {
    "language_info": {
      "name": "python",
      "version": "3.9.15",
      "mimetype": "text/x-python",
      "codemirror_mode": {
        "name": "ipython",
        "version": 3
      },
      "pygments_lexer": "ipython3",
      "nbconvert_exporter": "python",
      "file_extension": ".py"
    },
    "kernelspec": {
      "name": "python3",
      "language": "python",
      "display_name": "Python 3 (ipykernel)"
    },
    "kernel_info": {
      "name": "python3"
    },
    "nteract": {
      "version": "nteract-front-end@1.0.0"
    }
  },
  "nbformat": 4,
  "nbformat_minor": 0
}
